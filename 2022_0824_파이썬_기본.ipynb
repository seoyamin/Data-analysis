{
  "nbformat": 4,
  "nbformat_minor": 0,
  "metadata": {
    "colab": {
      "name": "2022_0824_파이썬 기본.ipynb",
      "provenance": [],
      "collapsed_sections": [],
      "authorship_tag": "ABX9TyPHnEDbGeAeMNCihjhKTcOi",
      "include_colab_link": true
    },
    "kernelspec": {
      "name": "python3",
      "display_name": "Python 3"
    },
    "language_info": {
      "name": "python"
    }
  },
  "cells": [
    {
      "cell_type": "markdown",
      "metadata": {
        "id": "view-in-github",
        "colab_type": "text"
      },
      "source": [
        "<a href=\"https://colab.research.google.com/github/seoyamin/Data-analysis/blob/main/2022_0824_%ED%8C%8C%EC%9D%B4%EC%8D%AC_%EA%B8%B0%EB%B3%B8.ipynb\" target=\"_parent\"><img src=\"https://colab.research.google.com/assets/colab-badge.svg\" alt=\"Open In Colab\"/></a>"
      ]
    },
    {
      "cell_type": "code",
      "execution_count": 8,
      "metadata": {
        "colab": {
          "base_uri": "https://localhost:8080/"
        },
        "id": "6v-q6Lz0Z0mt",
        "outputId": "9fe2f17e-b2d0-4f19-fb69-84490ed64bad"
      },
      "outputs": [
        {
          "output_type": "stream",
          "name": "stdout",
          "text": [
            "5\n"
          ]
        }
      ],
      "source": [
        "# shift + enter : 코드 실핻\n",
        "a = 5\n",
        "print(a)"
      ]
    },
    {
      "cell_type": "code",
      "source": [
        "a = 3\n",
        "b = 5"
      ],
      "metadata": {
        "id": "KBLtU64XbV0D"
      },
      "execution_count": 5,
      "outputs": []
    },
    {
      "cell_type": "code",
      "source": [
        "a + b"
      ],
      "metadata": {
        "colab": {
          "base_uri": "https://localhost:8080/"
        },
        "id": "RH3MVG1ibjvj",
        "outputId": "56eba4f7-ea03-410a-d4b6-370ae27d8305"
      },
      "execution_count": 6,
      "outputs": [
        {
          "output_type": "execute_result",
          "data": {
            "text/plain": [
              "8"
            ]
          },
          "metadata": {},
          "execution_count": 6
        }
      ]
    },
    {
      "cell_type": "code",
      "source": [
        "a - b"
      ],
      "metadata": {
        "colab": {
          "base_uri": "https://localhost:8080/"
        },
        "id": "31VVvU2FbnBD",
        "outputId": "f388d79d-c633-4547-957a-e403891726de"
      },
      "execution_count": 7,
      "outputs": [
        {
          "output_type": "execute_result",
          "data": {
            "text/plain": [
              "-2"
            ]
          },
          "metadata": {},
          "execution_count": 7
        }
      ]
    },
    {
      "cell_type": "code",
      "source": [
        "# a의 b제곱\n",
        "a ** b"
      ],
      "metadata": {
        "colab": {
          "base_uri": "https://localhost:8080/"
        },
        "id": "SNSasBsQboZc",
        "outputId": "937f135d-ab66-4eb4-f53b-6f57483584e1"
      },
      "execution_count": 9,
      "outputs": [
        {
          "output_type": "execute_result",
          "data": {
            "text/plain": [
              "3125"
            ]
          },
          "metadata": {},
          "execution_count": 9
        }
      ]
    },
    {
      "cell_type": "code",
      "source": [
        "# a를 b로 나눈 몫\n",
        "a // b"
      ],
      "metadata": {
        "id": "hTUlK3fQbyG6"
      },
      "execution_count": 10,
      "outputs": []
    },
    {
      "cell_type": "code",
      "source": [
        "# 3.14 * 10의 11승\n",
        "3.14E11"
      ],
      "metadata": {
        "colab": {
          "base_uri": "https://localhost:8080/"
        },
        "id": "yUnPXgP3b8Om",
        "outputId": "f893f192-9ce0-4eb0-b965-51c4d1bf00d4"
      },
      "execution_count": 11,
      "outputs": [
        {
          "output_type": "execute_result",
          "data": {
            "text/plain": [
              "314000000000.0"
            ]
          },
          "metadata": {},
          "execution_count": 11
        }
      ]
    },
    {
      "cell_type": "code",
      "source": [
        "# 문자열 자료형\n",
        "\n",
        "a = 'hello world'\n",
        "b = \"hello world\"\n",
        "c = \"\"\"hello world\"\"\""
      ],
      "metadata": {
        "id": "RdTpOswscIbC"
      },
      "execution_count": 12,
      "outputs": []
    },
    {
      "cell_type": "code",
      "source": [
        "a == b"
      ],
      "metadata": {
        "colab": {
          "base_uri": "https://localhost:8080/"
        },
        "id": "ik8eizAUcXGa",
        "outputId": "4f6de5e0-e573-48c7-b7f7-839bfc5b39ff"
      },
      "execution_count": 13,
      "outputs": [
        {
          "output_type": "execute_result",
          "data": {
            "text/plain": [
              "True"
            ]
          },
          "metadata": {},
          "execution_count": 13
        }
      ]
    },
    {
      "cell_type": "code",
      "source": [
        "a = \"hello ' world\" \n",
        "a\n",
        "a = 'hello \" world'\n",
        "a"
      ],
      "metadata": {
        "colab": {
          "base_uri": "https://localhost:8080/",
          "height": 35
        },
        "id": "AlV1g8Y5cbXq",
        "outputId": "5b832252-ec07-4a9e-fe6d-48adc1c1b66d"
      },
      "execution_count": 15,
      "outputs": [
        {
          "output_type": "execute_result",
          "data": {
            "text/plain": [
              "'hello \" world'"
            ],
            "application/vnd.google.colaboratory.intrinsic+json": {
              "type": "string"
            }
          },
          "metadata": {},
          "execution_count": 15
        }
      ]
    },
    {
      "cell_type": "code",
      "source": [
        "a = 'hello \\' world'\n",
        "a"
      ],
      "metadata": {
        "colab": {
          "base_uri": "https://localhost:8080/",
          "height": 35
        },
        "id": "6vtCwOf5dIkC",
        "outputId": "5fd417dc-4cd9-4bc3-c1d4-387f540eba4d"
      },
      "execution_count": 17,
      "outputs": [
        {
          "output_type": "execute_result",
          "data": {
            "text/plain": [
              "\"hello ' world\""
            ],
            "application/vnd.google.colaboratory.intrinsic+json": {
              "type": "string"
            }
          },
          "metadata": {},
          "execution_count": 17
        }
      ]
    },
    {
      "cell_type": "code",
      "source": [
        "c = \"\"\"hello' \" world\"\"\"\n",
        "print(c)"
      ],
      "metadata": {
        "colab": {
          "base_uri": "https://localhost:8080/"
        },
        "id": "WToXjZwjc4h2",
        "outputId": "08533825-9b30-4274-9736-019d505726dd"
      },
      "execution_count": 16,
      "outputs": [
        {
          "output_type": "stream",
          "name": "stdout",
          "text": [
            "hello' \" world\n"
          ]
        }
      ]
    },
    {
      "cell_type": "code",
      "source": [
        "a = 'hello \\n world'\n",
        "a   # a 변수 안에 뭐가 있는지 보여줘라\n",
        "print(a)   # a를 화면에 출력해라"
      ],
      "metadata": {
        "colab": {
          "base_uri": "https://localhost:8080/"
        },
        "id": "6nTkdYjOdOdh",
        "outputId": "5ba34f66-85af-40d7-fcc6-47ff2c3407d4"
      },
      "execution_count": 21,
      "outputs": [
        {
          "output_type": "stream",
          "name": "stdout",
          "text": [
            "hello \n",
            " world\n"
          ]
        }
      ]
    },
    {
      "cell_type": "code",
      "source": [
        "c = \"\"\"hello\n",
        "\n",
        "\n",
        "world\"\"\"\n",
        "\n",
        "print(c)"
      ],
      "metadata": {
        "colab": {
          "base_uri": "https://localhost:8080/"
        },
        "id": "u9emWCqjdX55",
        "outputId": "e5cad758-c5c8-42a4-8c6e-463fa515bb17"
      },
      "execution_count": 22,
      "outputs": [
        {
          "output_type": "stream",
          "name": "stdout",
          "text": [
            "hello\n",
            "\n",
            "\n",
            "world\n"
          ]
        }
      ]
    },
    {
      "cell_type": "code",
      "source": [
        "a = 'python is too fun'\n",
        "a"
      ],
      "metadata": {
        "colab": {
          "base_uri": "https://localhost:8080/",
          "height": 35
        },
        "id": "hi0nt9sFdxnx",
        "outputId": "cbd9848c-cfbd-4c62-db2c-330790021a1e"
      },
      "execution_count": 23,
      "outputs": [
        {
          "output_type": "execute_result",
          "data": {
            "text/plain": [
              "'python is too fun'"
            ],
            "application/vnd.google.colaboratory.intrinsic+json": {
              "type": "string"
            }
          },
          "metadata": {},
          "execution_count": 23
        }
      ]
    },
    {
      "cell_type": "code",
      "source": [
        "a[0]  # a의 0번째 문자에 접근 (인덱싱)"
      ],
      "metadata": {
        "colab": {
          "base_uri": "https://localhost:8080/",
          "height": 35
        },
        "id": "VJd39N8Fd5eZ",
        "outputId": "4d59a8c1-4dc3-4c35-d975-d8f12fd56861"
      },
      "execution_count": 24,
      "outputs": [
        {
          "output_type": "execute_result",
          "data": {
            "text/plain": [
              "'p'"
            ],
            "application/vnd.google.colaboratory.intrinsic+json": {
              "type": "string"
            }
          },
          "metadata": {},
          "execution_count": 24
        }
      ]
    },
    {
      "cell_type": "code",
      "source": [
        "a[-1]  # 뒤에서부터 접근"
      ],
      "metadata": {
        "colab": {
          "base_uri": "https://localhost:8080/",
          "height": 35
        },
        "id": "rcqvKs8feFU6",
        "outputId": "de81e42c-703e-4028-f76f-28bda70d115e"
      },
      "execution_count": 25,
      "outputs": [
        {
          "output_type": "execute_result",
          "data": {
            "text/plain": [
              "'n'"
            ],
            "application/vnd.google.colaboratory.intrinsic+json": {
              "type": "string"
            }
          },
          "metadata": {},
          "execution_count": 25
        }
      ]
    },
    {
      "cell_type": "code",
      "source": [
        "# 여러 개의 접근 (슬라이싱)\n",
        "\n",
        "a[2:5] # 2번째 ~ 5번째 전까지 (2-4까지)\n",
        "a[3:]  # 3번째부터 끝까지\n",
        "a[:5]  # 처음부터 5번째까지\n",
        "a[:]   # 전체"
      ],
      "metadata": {
        "colab": {
          "base_uri": "https://localhost:8080/",
          "height": 35
        },
        "id": "XNzsL6VBed_q",
        "outputId": "25654a0a-0372-4938-e560-fbc25dbaa666"
      },
      "execution_count": 28,
      "outputs": [
        {
          "output_type": "execute_result",
          "data": {
            "text/plain": [
              "'python is too fun'"
            ],
            "application/vnd.google.colaboratory.intrinsic+json": {
              "type": "string"
            }
          },
          "metadata": {},
          "execution_count": 28
        }
      ]
    },
    {
      "cell_type": "code",
      "source": [
        "a = 'python'\n",
        "b = ' is too fun'"
      ],
      "metadata": {
        "id": "jPIq37eWexla"
      },
      "execution_count": 29,
      "outputs": []
    },
    {
      "cell_type": "code",
      "source": [
        "a + b"
      ],
      "metadata": {
        "colab": {
          "base_uri": "https://localhost:8080/",
          "height": 35
        },
        "id": "7H-9COCsfCof",
        "outputId": "d15e49c3-b4c9-42e3-9480-f5009cd0abd9"
      },
      "execution_count": 30,
      "outputs": [
        {
          "output_type": "execute_result",
          "data": {
            "text/plain": [
              "'python is too fun'"
            ],
            "application/vnd.google.colaboratory.intrinsic+json": {
              "type": "string"
            }
          },
          "metadata": {},
          "execution_count": 30
        }
      ]
    },
    {
      "cell_type": "code",
      "source": [
        "a * 5"
      ],
      "metadata": {
        "colab": {
          "base_uri": "https://localhost:8080/",
          "height": 35
        },
        "id": "B8wBHjXifDop",
        "outputId": "03b73e2b-8fc9-4f0e-d8bf-936a9fd26da2"
      },
      "execution_count": 31,
      "outputs": [
        {
          "output_type": "execute_result",
          "data": {
            "text/plain": [
              "'pythonpythonpythonpythonpython'"
            ],
            "application/vnd.google.colaboratory.intrinsic+json": {
              "type": "string"
            }
          },
          "metadata": {},
          "execution_count": 31
        }
      ]
    },
    {
      "cell_type": "code",
      "source": [
        "len(a)  # length of a"
      ],
      "metadata": {
        "colab": {
          "base_uri": "https://localhost:8080/"
        },
        "id": "oJnn7ChmfFjo",
        "outputId": "b23ae2fb-b2a6-4cd5-e343-47729d11faa7"
      },
      "execution_count": 32,
      "outputs": [
        {
          "output_type": "execute_result",
          "data": {
            "text/plain": [
              "6"
            ]
          },
          "metadata": {},
          "execution_count": 32
        }
      ]
    },
    {
      "cell_type": "code",
      "source": [
        "# print(), len() : 내장함수\n",
        "# 문자열에서만 사용할 수 있는 문자열 전용 함수\n",
        "# 문자열.함수명()\n",
        "\n",
        "\"I eat {} apples\".format(3)   # 중괄호 안으로 input값 들어감"
      ],
      "metadata": {
        "colab": {
          "base_uri": "https://localhost:8080/",
          "height": 35
        },
        "id": "P3eLm956fI3p",
        "outputId": "f4568b97-9a9c-41f1-afcc-8e6480dc08a2"
      },
      "execution_count": 34,
      "outputs": [
        {
          "output_type": "execute_result",
          "data": {
            "text/plain": [
              "'I eat 3 apples'"
            ],
            "application/vnd.google.colaboratory.intrinsic+json": {
              "type": "string"
            }
          },
          "metadata": {},
          "execution_count": 34
        }
      ]
    },
    {
      "cell_type": "code",
      "source": [
        "\"I eat {} apples and {} oranges\".format(2, 4)"
      ],
      "metadata": {
        "colab": {
          "base_uri": "https://localhost:8080/",
          "height": 35
        },
        "id": "9yH4VIPGfThC",
        "outputId": "bcee4038-90fb-4be2-cc47-a381ed781d82"
      },
      "execution_count": 35,
      "outputs": [
        {
          "output_type": "execute_result",
          "data": {
            "text/plain": [
              "'I eat 2 apples and 4 oranges'"
            ],
            "application/vnd.google.colaboratory.intrinsic+json": {
              "type": "string"
            }
          },
          "metadata": {},
          "execution_count": 35
        }
      ]
    },
    {
      "cell_type": "code",
      "source": [
        "\"I eat {1} apples and {1} oranges\".format(2, 4)   # format 함수의 1번째 인덱스 인자값을 넣겠다"
      ],
      "metadata": {
        "colab": {
          "base_uri": "https://localhost:8080/",
          "height": 35
        },
        "id": "QHsF4xNtfqYX",
        "outputId": "f8b89c7e-60fc-4739-973c-5a435c38c6ae"
      },
      "execution_count": 37,
      "outputs": [
        {
          "output_type": "execute_result",
          "data": {
            "text/plain": [
              "'I eat 4 apples and 4 oranges'"
            ],
            "application/vnd.google.colaboratory.intrinsic+json": {
              "type": "string"
            }
          },
          "metadata": {},
          "execution_count": 37
        }
      ]
    },
    {
      "cell_type": "code",
      "source": [
        "num = 3.141592\n",
        "\"{}\".format(num)  # 숫자 -> 문자"
      ],
      "metadata": {
        "colab": {
          "base_uri": "https://localhost:8080/",
          "height": 35
        },
        "id": "xLGEEJk8f-B6",
        "outputId": "87a65d78-3cc8-4cb5-acec-a7e4f8dc564d"
      },
      "execution_count": 38,
      "outputs": [
        {
          "output_type": "execute_result",
          "data": {
            "text/plain": [
              "'3.141592'"
            ],
            "application/vnd.google.colaboratory.intrinsic+json": {
              "type": "string"
            }
          },
          "metadata": {},
          "execution_count": 38
        }
      ]
    },
    {
      "cell_type": "code",
      "source": [
        "\"{:.2f}\".format(num)  # 소숫점 2째 자리까지 나타냄"
      ],
      "metadata": {
        "colab": {
          "base_uri": "https://localhost:8080/",
          "height": 35
        },
        "id": "ytV8Vo_kgGk2",
        "outputId": "08d61281-ffa9-46e2-da55-73a6f7f8eae4"
      },
      "execution_count": 39,
      "outputs": [
        {
          "output_type": "execute_result",
          "data": {
            "text/plain": [
              "'3.14'"
            ],
            "application/vnd.google.colaboratory.intrinsic+json": {
              "type": "string"
            }
          },
          "metadata": {},
          "execution_count": 39
        }
      ]
    },
    {
      "cell_type": "code",
      "source": [
        "\"{:10.2f}\".format(num)  # 10개의 공간을 할당한 후, 소숫점 2째 자리까지 나타냄"
      ],
      "metadata": {
        "colab": {
          "base_uri": "https://localhost:8080/",
          "height": 35
        },
        "id": "GWu6-J6TgTKh",
        "outputId": "a4815bc9-1ac7-4602-eb57-92e01b1d4abe"
      },
      "execution_count": 40,
      "outputs": [
        {
          "output_type": "execute_result",
          "data": {
            "text/plain": [
              "'      3.14'"
            ],
            "application/vnd.google.colaboratory.intrinsic+json": {
              "type": "string"
            }
          },
          "metadata": {},
          "execution_count": 40
        }
      ]
    },
    {
      "cell_type": "code",
      "source": [
        "text = \"hi\"\n",
        "'{}'.format(text)\n",
        "'{:<10}'.format(text)  # 10개의 공간을 할당한 후, 왼쪽 정렬"
      ],
      "metadata": {
        "colab": {
          "base_uri": "https://localhost:8080/",
          "height": 35
        },
        "id": "bLCbWmvPgZm1",
        "outputId": "0c4aa3fc-7dc7-40f6-c3bf-e9bf4f14dace"
      },
      "execution_count": 44,
      "outputs": [
        {
          "output_type": "execute_result",
          "data": {
            "text/plain": [
              "'hi        '"
            ],
            "application/vnd.google.colaboratory.intrinsic+json": {
              "type": "string"
            }
          },
          "metadata": {},
          "execution_count": 44
        }
      ]
    },
    {
      "cell_type": "code",
      "source": [
        "'{:>10}'.format(text)  # 10개의 공간을 할당한 후, 오른쪽 정렬"
      ],
      "metadata": {
        "colab": {
          "base_uri": "https://localhost:8080/",
          "height": 35
        },
        "id": "78INtm1sgjvp",
        "outputId": "9fb5ae84-d4df-44dd-f172-0a2f04afb99f"
      },
      "execution_count": 45,
      "outputs": [
        {
          "output_type": "execute_result",
          "data": {
            "text/plain": [
              "'        hi'"
            ],
            "application/vnd.google.colaboratory.intrinsic+json": {
              "type": "string"
            }
          },
          "metadata": {},
          "execution_count": 45
        }
      ]
    },
    {
      "cell_type": "code",
      "source": [
        "'{:^10}'.format(text)  # 10개의 공간을 할당한 후, 가운데 정렬"
      ],
      "metadata": {
        "colab": {
          "base_uri": "https://localhost:8080/",
          "height": 35
        },
        "id": "oen0Sw-dg1NO",
        "outputId": "cd3860b4-fdee-4519-8419-1e661964271e"
      },
      "execution_count": 46,
      "outputs": [
        {
          "output_type": "execute_result",
          "data": {
            "text/plain": [
              "'    hi    '"
            ],
            "application/vnd.google.colaboratory.intrinsic+json": {
              "type": "string"
            }
          },
          "metadata": {},
          "execution_count": 46
        }
      ]
    },
    {
      "cell_type": "code",
      "source": [
        "'{:=^10}'.format(text)  # 10개의 공간을 할당한 후, 가운데 정렬, 빈 공간에는 내가 넣은 문자 = 채우기"
      ],
      "metadata": {
        "colab": {
          "base_uri": "https://localhost:8080/",
          "height": 35
        },
        "id": "flhp4_ZLg4NG",
        "outputId": "eef23712-9890-4470-b915-a6e1a23afe5c"
      },
      "execution_count": 47,
      "outputs": [
        {
          "output_type": "execute_result",
          "data": {
            "text/plain": [
              "'====hi===='"
            ],
            "application/vnd.google.colaboratory.intrinsic+json": {
              "type": "string"
            }
          },
          "metadata": {},
          "execution_count": 47
        }
      ]
    },
    {
      "cell_type": "code",
      "source": [
        "name = '홍길동'\n",
        "age = 30\n",
        "\n",
        "\"나의 이름은 {}이고, {}살입니다.\".format(name, age)"
      ],
      "metadata": {
        "colab": {
          "base_uri": "https://localhost:8080/",
          "height": 35
        },
        "id": "vDHR-JcbhAVJ",
        "outputId": "96b039a0-52bb-47e9-8402-189bae0620af"
      },
      "execution_count": 48,
      "outputs": [
        {
          "output_type": "execute_result",
          "data": {
            "text/plain": [
              "'나의 이름은 홍길동이고, 30살입니다.'"
            ],
            "application/vnd.google.colaboratory.intrinsic+json": {
              "type": "string"
            }
          },
          "metadata": {},
          "execution_count": 48
        }
      ]
    },
    {
      "cell_type": "code",
      "source": [
        "f\"나의 이름은 {name:<10}이고, {age}살입니다.\"  # format 함수의 발전한 형태 (맨 앞에 f 쓰고 바로 변수 대입)"
      ],
      "metadata": {
        "colab": {
          "base_uri": "https://localhost:8080/",
          "height": 35
        },
        "id": "sjICPyXAhIg9",
        "outputId": "c5741a73-f652-4b8b-b283-182ee610245f"
      },
      "execution_count": 50,
      "outputs": [
        {
          "output_type": "execute_result",
          "data": {
            "text/plain": [
              "'나의 이름은 홍길동       이고, 30살입니다.'"
            ],
            "application/vnd.google.colaboratory.intrinsic+json": {
              "type": "string"
            }
          },
          "metadata": {},
          "execution_count": 50
        }
      ]
    },
    {
      "cell_type": "code",
      "source": [
        "a = 'python is too fun'\n",
        "a.count('o')"
      ],
      "metadata": {
        "colab": {
          "base_uri": "https://localhost:8080/"
        },
        "id": "pvqh_JTWhZ03",
        "outputId": "355009c2-52db-4a18-ddea-4b3c0ffdce38"
      },
      "execution_count": 51,
      "outputs": [
        {
          "output_type": "execute_result",
          "data": {
            "text/plain": [
              "3"
            ]
          },
          "metadata": {},
          "execution_count": 51
        }
      ]
    },
    {
      "cell_type": "code",
      "source": [
        "a.find(\"o\")   # 가장 처음 발견한 위치를 리턴"
      ],
      "metadata": {
        "colab": {
          "base_uri": "https://localhost:8080/"
        },
        "id": "Q1CLMIePh0em",
        "outputId": "305a0107-585c-477d-b75b-e07e3fbeb6ba"
      },
      "execution_count": 52,
      "outputs": [
        {
          "output_type": "execute_result",
          "data": {
            "text/plain": [
              "4"
            ]
          },
          "metadata": {},
          "execution_count": 52
        }
      ]
    },
    {
      "cell_type": "code",
      "source": [
        "a.find(\"z\")   # 존재하지 않으면 -1 리턴"
      ],
      "metadata": {
        "colab": {
          "base_uri": "https://localhost:8080/"
        },
        "id": "0M3ONYzyh8XF",
        "outputId": "91d735fb-1013-4894-becc-eb5ddf3d57cd"
      },
      "execution_count": 53,
      "outputs": [
        {
          "output_type": "execute_result",
          "data": {
            "text/plain": [
              "-1"
            ]
          },
          "metadata": {},
          "execution_count": 53
        }
      ]
    },
    {
      "cell_type": "code",
      "source": [
        "\",\".join(\"abcde\")  # abcde 사이사이에 ,을 join 시킨 string을 리턴"
      ],
      "metadata": {
        "colab": {
          "base_uri": "https://localhost:8080/",
          "height": 35
        },
        "id": "5Xe6_6kdiK3P",
        "outputId": "302d5c7c-65ec-4dd5-f492-7e7283fe3c87"
      },
      "execution_count": 55,
      "outputs": [
        {
          "output_type": "execute_result",
          "data": {
            "text/plain": [
              "'a,b,c,d,e'"
            ],
            "application/vnd.google.colaboratory.intrinsic+json": {
              "type": "string"
            }
          },
          "metadata": {},
          "execution_count": 55
        }
      ]
    },
    {
      "cell_type": "code",
      "source": [
        "\"@\".join(['a', 'b', 'c'])  # 배열 원소 사이사이에 @을 join 시킨 string을 리턴"
      ],
      "metadata": {
        "colab": {
          "base_uri": "https://localhost:8080/",
          "height": 35
        },
        "id": "kVQtCL1PiQht",
        "outputId": "0fd001a6-2970-4bdb-a98d-a5bdc2da17b3"
      },
      "execution_count": 56,
      "outputs": [
        {
          "output_type": "execute_result",
          "data": {
            "text/plain": [
              "'a@b@c'"
            ],
            "application/vnd.google.colaboratory.intrinsic+json": {
              "type": "string"
            }
          },
          "metadata": {},
          "execution_count": 56
        }
      ]
    },
    {
      "cell_type": "code",
      "source": [
        "a.upper()"
      ],
      "metadata": {
        "colab": {
          "base_uri": "https://localhost:8080/",
          "height": 35
        },
        "id": "YCcdLZ6OilSj",
        "outputId": "57f1fe05-b352-4a3c-ee55-3a3d1ecfee5c"
      },
      "execution_count": 57,
      "outputs": [
        {
          "output_type": "execute_result",
          "data": {
            "text/plain": [
              "'PYTHON IS TOO FUN'"
            ],
            "application/vnd.google.colaboratory.intrinsic+json": {
              "type": "string"
            }
          },
          "metadata": {},
          "execution_count": 57
        }
      ]
    },
    {
      "cell_type": "code",
      "source": [
        "a.lower()"
      ],
      "metadata": {
        "colab": {
          "base_uri": "https://localhost:8080/",
          "height": 35
        },
        "id": "8FGYDh6hinvj",
        "outputId": "6816854d-6b60-4bf9-f6ea-5e9fceb33b4b"
      },
      "execution_count": 58,
      "outputs": [
        {
          "output_type": "execute_result",
          "data": {
            "text/plain": [
              "'python is too fun'"
            ],
            "application/vnd.google.colaboratory.intrinsic+json": {
              "type": "string"
            }
          },
          "metadata": {},
          "execution_count": 58
        }
      ]
    },
    {
      "cell_type": "code",
      "source": [
        "a.capitalize()  # 맨 앞에 있는 글자만 대문자화"
      ],
      "metadata": {
        "colab": {
          "base_uri": "https://localhost:8080/",
          "height": 35
        },
        "id": "IjyTEgIYioiD",
        "outputId": "557d657c-e7c3-4266-bf71-b99a861d51d9"
      },
      "execution_count": 59,
      "outputs": [
        {
          "output_type": "execute_result",
          "data": {
            "text/plain": [
              "'Python is too fun'"
            ],
            "application/vnd.google.colaboratory.intrinsic+json": {
              "type": "string"
            }
          },
          "metadata": {},
          "execution_count": 59
        }
      ]
    },
    {
      "cell_type": "code",
      "source": [
        "b = '      helllo      '\n",
        "b"
      ],
      "metadata": {
        "colab": {
          "base_uri": "https://localhost:8080/",
          "height": 35
        },
        "id": "UG3zZ5emity-",
        "outputId": "8ef3c632-0a1e-4296-85c5-6e2144e7343b"
      },
      "execution_count": 60,
      "outputs": [
        {
          "output_type": "execute_result",
          "data": {
            "text/plain": [
              "'      helllo      '"
            ],
            "application/vnd.google.colaboratory.intrinsic+json": {
              "type": "string"
            }
          },
          "metadata": {},
          "execution_count": 60
        }
      ]
    },
    {
      "cell_type": "code",
      "source": [
        "b.lstrip()    # 왼쪽 공백 싹 다 없앰"
      ],
      "metadata": {
        "colab": {
          "base_uri": "https://localhost:8080/",
          "height": 35
        },
        "id": "puAwvBHTi2DT",
        "outputId": "a9c913a2-44db-470d-dbdf-646fcc298bba"
      },
      "execution_count": 61,
      "outputs": [
        {
          "output_type": "execute_result",
          "data": {
            "text/plain": [
              "'helllo      '"
            ],
            "application/vnd.google.colaboratory.intrinsic+json": {
              "type": "string"
            }
          },
          "metadata": {},
          "execution_count": 61
        }
      ]
    },
    {
      "cell_type": "code",
      "source": [
        "b.rstrip()   # 오른쪽 공백 싹 다 없앰"
      ],
      "metadata": {
        "colab": {
          "base_uri": "https://localhost:8080/",
          "height": 35
        },
        "id": "jQux9aJBi8-O",
        "outputId": "6423132b-8249-4767-91a6-5128276c0b85"
      },
      "execution_count": 62,
      "outputs": [
        {
          "output_type": "execute_result",
          "data": {
            "text/plain": [
              "'      helllo'"
            ],
            "application/vnd.google.colaboratory.intrinsic+json": {
              "type": "string"
            }
          },
          "metadata": {},
          "execution_count": 62
        }
      ]
    },
    {
      "cell_type": "code",
      "source": [
        "b.strip()    # 양쪽 공백 싹 다 없앰"
      ],
      "metadata": {
        "colab": {
          "base_uri": "https://localhost:8080/",
          "height": 35
        },
        "id": "6SCpg_OcjAp2",
        "outputId": "e559261a-7c32-485a-b2b7-847bd8830a0d"
      },
      "execution_count": 63,
      "outputs": [
        {
          "output_type": "execute_result",
          "data": {
            "text/plain": [
              "'helllo'"
            ],
            "application/vnd.google.colaboratory.intrinsic+json": {
              "type": "string"
            }
          },
          "metadata": {},
          "execution_count": 63
        }
      ]
    },
    {
      "cell_type": "code",
      "source": [
        "a.replace(\"python\", \"java\")  # 잠깐 바꿔서 보여줌 (실제로 변경 X)"
      ],
      "metadata": {
        "colab": {
          "base_uri": "https://localhost:8080/",
          "height": 35
        },
        "id": "aEHJl0_3jEdO",
        "outputId": "6f448660-2a8a-4a74-e032-1497e7f13127"
      },
      "execution_count": 64,
      "outputs": [
        {
          "output_type": "execute_result",
          "data": {
            "text/plain": [
              "'java is too fun'"
            ],
            "application/vnd.google.colaboratory.intrinsic+json": {
              "type": "string"
            }
          },
          "metadata": {},
          "execution_count": 64
        }
      ]
    },
    {
      "cell_type": "code",
      "source": [
        "a"
      ],
      "metadata": {
        "colab": {
          "base_uri": "https://localhost:8080/",
          "height": 35
        },
        "id": "vamxPb9sjLSL",
        "outputId": "dba6f5d8-d687-4397-f5ed-686def80fe75"
      },
      "execution_count": 65,
      "outputs": [
        {
          "output_type": "execute_result",
          "data": {
            "text/plain": [
              "'python is too fun'"
            ],
            "application/vnd.google.colaboratory.intrinsic+json": {
              "type": "string"
            }
          },
          "metadata": {},
          "execution_count": 65
        }
      ]
    },
    {
      "cell_type": "code",
      "source": [
        "a = a.replace(\"python\", \"java\")  # 아예 a 값 변경"
      ],
      "metadata": {
        "id": "u-u2uwnLjNdT"
      },
      "execution_count": 66,
      "outputs": []
    },
    {
      "cell_type": "code",
      "source": [
        "a"
      ],
      "metadata": {
        "colab": {
          "base_uri": "https://localhost:8080/",
          "height": 35
        },
        "id": "JuBhuGJKjVbl",
        "outputId": "aa305791-048d-4229-bf3c-3d8274c19d8a"
      },
      "execution_count": 67,
      "outputs": [
        {
          "output_type": "execute_result",
          "data": {
            "text/plain": [
              "'java is too fun'"
            ],
            "application/vnd.google.colaboratory.intrinsic+json": {
              "type": "string"
            }
          },
          "metadata": {},
          "execution_count": 67
        }
      ]
    },
    {
      "cell_type": "code",
      "source": [
        "a.split()   # 공백 기준으로 잘라서 list로 리턴"
      ],
      "metadata": {
        "colab": {
          "base_uri": "https://localhost:8080/"
        },
        "id": "XUh7lZlhjW-z",
        "outputId": "10833326-e097-48e9-ec29-fc7972702211"
      },
      "execution_count": 69,
      "outputs": [
        {
          "output_type": "execute_result",
          "data": {
            "text/plain": [
              "['java', 'is', 'too', 'fun']"
            ]
          },
          "metadata": {},
          "execution_count": 69
        }
      ]
    },
    {
      "cell_type": "code",
      "source": [
        "c = \"python:is:too:fun\"\n",
        "c.split()"
      ],
      "metadata": {
        "colab": {
          "base_uri": "https://localhost:8080/"
        },
        "id": "5gUlD76JjYn8",
        "outputId": "652115f5-8896-444d-8783-a5e53dc4260f"
      },
      "execution_count": 70,
      "outputs": [
        {
          "output_type": "execute_result",
          "data": {
            "text/plain": [
              "['python:is:too:fun']"
            ]
          },
          "metadata": {},
          "execution_count": 70
        }
      ]
    },
    {
      "cell_type": "code",
      "source": [
        "c.split(':')"
      ],
      "metadata": {
        "colab": {
          "base_uri": "https://localhost:8080/"
        },
        "id": "GLoy83r4jiAj",
        "outputId": "785464d1-b24f-4400-8544-8e75ca391f9b"
      },
      "execution_count": 71,
      "outputs": [
        {
          "output_type": "execute_result",
          "data": {
            "text/plain": [
              "['python', 'is', 'too', 'fun']"
            ]
          },
          "metadata": {},
          "execution_count": 71
        }
      ]
    },
    {
      "cell_type": "code",
      "source": [
        "a.endswith(\"fun\")  # a 문자열이 'fun'으로 끝나는지 여부 리턴"
      ],
      "metadata": {
        "colab": {
          "base_uri": "https://localhost:8080/"
        },
        "id": "6EgGRm5rjo3q",
        "outputId": "233c2ab1-bb2f-4a96-dbb2-77088875edf8"
      },
      "execution_count": 72,
      "outputs": [
        {
          "output_type": "execute_result",
          "data": {
            "text/plain": [
              "True"
            ]
          },
          "metadata": {},
          "execution_count": 72
        }
      ]
    },
    {
      "cell_type": "code",
      "source": [
        "a.endswith('.jpg')"
      ],
      "metadata": {
        "colab": {
          "base_uri": "https://localhost:8080/"
        },
        "id": "2TFbktnWj1Fk",
        "outputId": "15ced942-e5ad-4f73-d39a-d69558fcc5ce"
      },
      "execution_count": 73,
      "outputs": [
        {
          "output_type": "execute_result",
          "data": {
            "text/plain": [
              "False"
            ]
          },
          "metadata": {},
          "execution_count": 73
        }
      ]
    },
    {
      "cell_type": "code",
      "source": [
        "a.startswith('java')  # a 문자열이 'java'으로 시작하는지 여부 리턴"
      ],
      "metadata": {
        "colab": {
          "base_uri": "https://localhost:8080/"
        },
        "id": "Zrso8A0zj99y",
        "outputId": "4949ddd5-faeb-4ea9-db49-0825c9c727ff"
      },
      "execution_count": 74,
      "outputs": [
        {
          "output_type": "execute_result",
          "data": {
            "text/plain": [
              "True"
            ]
          },
          "metadata": {},
          "execution_count": 74
        }
      ]
    },
    {
      "cell_type": "code",
      "source": [
        "num = 'a35'\n",
        "num.isdigit()  # 이게 순수하게 숫자로 이루어진 변수인지 리턴"
      ],
      "metadata": {
        "colab": {
          "base_uri": "https://localhost:8080/"
        },
        "id": "X5Kd5wIGkJ50",
        "outputId": "76ab0726-de0a-43f2-a390-846b6f02d0c9"
      },
      "execution_count": 75,
      "outputs": [
        {
          "output_type": "execute_result",
          "data": {
            "text/plain": [
              "True"
            ]
          },
          "metadata": {},
          "execution_count": 75
        }
      ]
    },
    {
      "cell_type": "code",
      "source": [
        "num.isalnum()  # 이게 숫자 / 알파벳 으로 이루어진 변수인지 리턴"
      ],
      "metadata": {
        "colab": {
          "base_uri": "https://localhost:8080/"
        },
        "id": "y_slgdRNkVli",
        "outputId": "2d22c74a-2085-48c0-d272-4d350f0b4092"
      },
      "execution_count": 76,
      "outputs": [
        {
          "output_type": "execute_result",
          "data": {
            "text/plain": [
              "True"
            ]
          },
          "metadata": {},
          "execution_count": 76
        }
      ]
    },
    {
      "cell_type": "code",
      "source": [
        "num2 = '      '\n",
        "num2.isspace()  # 이게 공백으로만 이루어진 변수인지 리턴"
      ],
      "metadata": {
        "colab": {
          "base_uri": "https://localhost:8080/"
        },
        "id": "Y4u8WqHykktD",
        "outputId": "cdc1b38a-cf56-48ae-fdf4-73923a916210"
      },
      "execution_count": 77,
      "outputs": [
        {
          "output_type": "execute_result",
          "data": {
            "text/plain": [
              "True"
            ]
          },
          "metadata": {},
          "execution_count": 77
        }
      ]
    },
    {
      "cell_type": "code",
      "source": [
        "# 리스트 자료형 : 데이터들을 보관하는 기능\n",
        "\n",
        "a = [1, 2, 3, 4, 5]\n",
        "a"
      ],
      "metadata": {
        "colab": {
          "base_uri": "https://localhost:8080/"
        },
        "id": "vkfKbUrGksmW",
        "outputId": "23b60ed1-632b-40ee-fc41-b97b110c03a1"
      },
      "execution_count": 79,
      "outputs": [
        {
          "output_type": "execute_result",
          "data": {
            "text/plain": [
              "[1, 2, 3, 4, 5]"
            ]
          },
          "metadata": {},
          "execution_count": 79
        }
      ]
    },
    {
      "cell_type": "code",
      "source": [
        "a = [1, 2, 3, [4, 5]]\n",
        "len(a)"
      ],
      "metadata": {
        "colab": {
          "base_uri": "https://localhost:8080/"
        },
        "id": "puYN3T7_lHdF",
        "outputId": "f1d4fa12-d685-4e0f-f2d2-03b59a7bb2f2"
      },
      "execution_count": 80,
      "outputs": [
        {
          "output_type": "execute_result",
          "data": {
            "text/plain": [
              "4"
            ]
          },
          "metadata": {},
          "execution_count": 80
        }
      ]
    },
    {
      "cell_type": "code",
      "source": [
        "a[0]"
      ],
      "metadata": {
        "colab": {
          "base_uri": "https://localhost:8080/"
        },
        "id": "Vxq1ko-goyRe",
        "outputId": "95c5943e-36d5-4d3e-a855-1654854ea170"
      },
      "execution_count": 81,
      "outputs": [
        {
          "output_type": "execute_result",
          "data": {
            "text/plain": [
              "1"
            ]
          },
          "metadata": {},
          "execution_count": 81
        }
      ]
    },
    {
      "cell_type": "code",
      "source": [
        "a[3][1]  # 5만 출력해보기"
      ],
      "metadata": {
        "colab": {
          "base_uri": "https://localhost:8080/"
        },
        "id": "pYtYeG35o3Ne",
        "outputId": "36a1c80e-a119-4737-bfe5-006442457e81"
      },
      "execution_count": 82,
      "outputs": [
        {
          "output_type": "execute_result",
          "data": {
            "text/plain": [
              "5"
            ]
          },
          "metadata": {},
          "execution_count": 82
        }
      ]
    },
    {
      "cell_type": "code",
      "source": [
        "a = [1, 2, 3]\n",
        "b = [4, 5, 6]\n",
        "\n",
        "a + b"
      ],
      "metadata": {
        "colab": {
          "base_uri": "https://localhost:8080/"
        },
        "id": "f3lJVcwho9RO",
        "outputId": "d1fb9842-d5e6-4f47-8d9e-e99d792fd46d"
      },
      "execution_count": 83,
      "outputs": [
        {
          "output_type": "execute_result",
          "data": {
            "text/plain": [
              "[1, 2, 3, 4, 5, 6]"
            ]
          },
          "metadata": {},
          "execution_count": 83
        }
      ]
    },
    {
      "cell_type": "code",
      "source": [
        "a * 3"
      ],
      "metadata": {
        "colab": {
          "base_uri": "https://localhost:8080/"
        },
        "id": "_GHL-zP9pabf",
        "outputId": "8bf0101e-79a1-462a-97da-b3e3c5de8361"
      },
      "execution_count": 84,
      "outputs": [
        {
          "output_type": "execute_result",
          "data": {
            "text/plain": [
              "[1, 2, 3, 1, 2, 3, 1, 2, 3]"
            ]
          },
          "metadata": {},
          "execution_count": 84
        }
      ]
    },
    {
      "cell_type": "code",
      "source": [
        "a[1] = 10\n",
        "a"
      ],
      "metadata": {
        "colab": {
          "base_uri": "https://localhost:8080/"
        },
        "id": "AOjdPYcSpgNF",
        "outputId": "cfff1d5f-41b2-4514-f2e0-252342b29cab"
      },
      "execution_count": 89,
      "outputs": [
        {
          "output_type": "execute_result",
          "data": {
            "text/plain": [
              "[1, 10, 3]"
            ]
          },
          "metadata": {},
          "execution_count": 89
        }
      ]
    },
    {
      "cell_type": "code",
      "source": [
        "a = [1, 2, 3, 4, 5, 6, 7, 8]\n",
        "del a[1]\n",
        "a"
      ],
      "metadata": {
        "colab": {
          "base_uri": "https://localhost:8080/"
        },
        "id": "rovEMOlyps5N",
        "outputId": "48d80377-2925-402b-c219-f9c72b931fec"
      },
      "execution_count": 99,
      "outputs": [
        {
          "output_type": "execute_result",
          "data": {
            "text/plain": [
              "[1, 3, 4, 5, 6, 7, 8]"
            ]
          },
          "metadata": {},
          "execution_count": 99
        }
      ]
    },
    {
      "cell_type": "code",
      "source": [
        "del a[3:]\n",
        "a"
      ],
      "metadata": {
        "colab": {
          "base_uri": "https://localhost:8080/"
        },
        "id": "OI2LX2XHqIxo",
        "outputId": "7bc528d1-3a2f-445e-a7b1-cc0cc75b232f"
      },
      "execution_count": 100,
      "outputs": [
        {
          "output_type": "execute_result",
          "data": {
            "text/plain": [
              "[1, 3, 4]"
            ]
          },
          "metadata": {},
          "execution_count": 100
        }
      ]
    },
    {
      "cell_type": "code",
      "source": [
        "a.append(5)\n",
        "a"
      ],
      "metadata": {
        "colab": {
          "base_uri": "https://localhost:8080/"
        },
        "id": "HphLbE8Pp3ol",
        "outputId": "b5521406-abd0-413b-d1c2-e7cabed68e41"
      },
      "execution_count": 101,
      "outputs": [
        {
          "output_type": "execute_result",
          "data": {
            "text/plain": [
              "[1, 3, 4, 5]"
            ]
          },
          "metadata": {},
          "execution_count": 101
        }
      ]
    },
    {
      "cell_type": "code",
      "source": [
        "a.insert(0, 10)  # index = 0에 10을 삽입 (속도가 좀 느림)\n",
        "a"
      ],
      "metadata": {
        "colab": {
          "base_uri": "https://localhost:8080/"
        },
        "id": "ID439yr_qUSc",
        "outputId": "8fe12230-ec9e-420e-aaf7-dfb37651a0dd"
      },
      "execution_count": 104,
      "outputs": [
        {
          "output_type": "execute_result",
          "data": {
            "text/plain": [
              "[10, 10, 10, 1, 3, 4, 5]"
            ]
          },
          "metadata": {},
          "execution_count": 104
        }
      ]
    },
    {
      "cell_type": "code",
      "source": [
        "a = [1, 3, 5, 4, 2]\n",
        "a.sort()\n",
        "a"
      ],
      "metadata": {
        "colab": {
          "base_uri": "https://localhost:8080/"
        },
        "id": "1rH8mz4DqeLs",
        "outputId": "fbf009ec-3a37-4275-c740-6ca6f3fc2fe3"
      },
      "execution_count": 105,
      "outputs": [
        {
          "output_type": "execute_result",
          "data": {
            "text/plain": [
              "[1, 2, 3, 4, 5]"
            ]
          },
          "metadata": {},
          "execution_count": 105
        }
      ]
    },
    {
      "cell_type": "code",
      "source": [
        "a.sort(reverse=True)\n",
        "a"
      ],
      "metadata": {
        "colab": {
          "base_uri": "https://localhost:8080/"
        },
        "id": "4GXHcGmJqjUs",
        "outputId": "07908bd1-a8e7-4397-f653-3d4faad0c57a"
      },
      "execution_count": 106,
      "outputs": [
        {
          "output_type": "execute_result",
          "data": {
            "text/plain": [
              "[5, 4, 3, 2, 1]"
            ]
          },
          "metadata": {},
          "execution_count": 106
        }
      ]
    },
    {
      "cell_type": "code",
      "source": [
        "box = ['banana', 'car', 'apple']\n",
        "box.sort()\n",
        "box"
      ],
      "metadata": {
        "colab": {
          "base_uri": "https://localhost:8080/"
        },
        "id": "qvY1TMRpqn08",
        "outputId": "f2916331-2881-498b-c23b-04f412e22c73"
      },
      "execution_count": 107,
      "outputs": [
        {
          "output_type": "execute_result",
          "data": {
            "text/plain": [
              "['apple', 'banana', 'car']"
            ]
          },
          "metadata": {},
          "execution_count": 107
        }
      ]
    },
    {
      "cell_type": "code",
      "source": [
        "box.append([3, 4])\n",
        "box"
      ],
      "metadata": {
        "colab": {
          "base_uri": "https://localhost:8080/"
        },
        "id": "8-B7C4EpqxZs",
        "outputId": "b75db6ae-4a88-4fa6-ab90-3a545d221cd6"
      },
      "execution_count": 108,
      "outputs": [
        {
          "output_type": "execute_result",
          "data": {
            "text/plain": [
              "['apple', 'banana', 'car', [3, 4]]"
            ]
          },
          "metadata": {},
          "execution_count": 108
        }
      ]
    },
    {
      "cell_type": "code",
      "source": [
        "a = [1, 3, 5, 4, 2, 5]\n",
        "a.reverse()    #  순서 뒤집어줌\n",
        "a"
      ],
      "metadata": {
        "colab": {
          "base_uri": "https://localhost:8080/"
        },
        "id": "g-cO9iWsq0xk",
        "outputId": "36d2ec25-b95d-4225-aa25-7689cef8cd9c"
      },
      "execution_count": 113,
      "outputs": [
        {
          "output_type": "execute_result",
          "data": {
            "text/plain": [
              "[5, 2, 4, 5, 3, 1]"
            ]
          },
          "metadata": {},
          "execution_count": 113
        }
      ]
    },
    {
      "cell_type": "code",
      "source": [
        "a.index(1)   # 인덱스 1인 값을 찾음 (없는 값 찾으면 에러)"
      ],
      "metadata": {
        "colab": {
          "base_uri": "https://localhost:8080/"
        },
        "id": "HPNTedzYq8TE",
        "outputId": "67d11a58-937f-428a-967d-ecfa7bf9ccf9"
      },
      "execution_count": 114,
      "outputs": [
        {
          "output_type": "execute_result",
          "data": {
            "text/plain": [
              "5"
            ]
          },
          "metadata": {},
          "execution_count": 114
        }
      ]
    },
    {
      "cell_type": "code",
      "source": [
        "a.remove(5)  # 모든 5 아니고, 제일 처음 5 하나만 제거\n",
        "a"
      ],
      "metadata": {
        "colab": {
          "base_uri": "https://localhost:8080/"
        },
        "id": "m7pkhaaErQ_2",
        "outputId": "31e5382a-03be-4943-f999-eb5adff004b2"
      },
      "execution_count": 115,
      "outputs": [
        {
          "output_type": "execute_result",
          "data": {
            "text/plain": [
              "[2, 4, 5, 3, 1]"
            ]
          },
          "metadata": {},
          "execution_count": 115
        }
      ]
    },
    {
      "cell_type": "code",
      "source": [
        "box = [1, 3, 5, 4, 2]\n",
        "\n",
        "a = box.remove(2)\n",
        "box"
      ],
      "metadata": {
        "colab": {
          "base_uri": "https://localhost:8080/"
        },
        "id": "GyTGw9F-rZ9j",
        "outputId": "085caef9-a7f3-4ab4-91e8-7e34dfdb725f"
      },
      "execution_count": 116,
      "outputs": [
        {
          "output_type": "execute_result",
          "data": {
            "text/plain": [
              "[1, 3, 5, 4]"
            ]
          },
          "metadata": {},
          "execution_count": 116
        }
      ]
    },
    {
      "cell_type": "code",
      "source": [
        "print(a)"
      ],
      "metadata": {
        "colab": {
          "base_uri": "https://localhost:8080/"
        },
        "id": "M7uCEw4xrsPs",
        "outputId": "7c50ee56-c860-4dfb-80cd-9b27ab2f5adb"
      },
      "execution_count": 117,
      "outputs": [
        {
          "output_type": "stream",
          "name": "stdout",
          "text": [
            "None\n"
          ]
        }
      ]
    },
    {
      "cell_type": "code",
      "source": [
        "box = [1, 3, 5, 4, 2]\n",
        "\n",
        "a = box.pop()   # 기본적으로 가장 맨 뒤에 있는 값을 뽑아 준다.  pop(3) : 인덱스 3인 값을 뽑아 줌\n",
        "a"
      ],
      "metadata": {
        "colab": {
          "base_uri": "https://localhost:8080/"
        },
        "id": "OyD9I2csrw-W",
        "outputId": "de261a0b-7dbe-4b06-c8f0-785a9beccb7d"
      },
      "execution_count": 121,
      "outputs": [
        {
          "output_type": "execute_result",
          "data": {
            "text/plain": [
              "2"
            ]
          },
          "metadata": {},
          "execution_count": 121
        }
      ]
    },
    {
      "cell_type": "code",
      "source": [
        "box"
      ],
      "metadata": {
        "colab": {
          "base_uri": "https://localhost:8080/"
        },
        "id": "iUEP-iMrrzc-",
        "outputId": "b95368bf-5cc5-4935-bcee-d2aa298d1b55"
      },
      "execution_count": 122,
      "outputs": [
        {
          "output_type": "execute_result",
          "data": {
            "text/plain": [
              "[1, 3, 5, 4]"
            ]
          },
          "metadata": {},
          "execution_count": 122
        }
      ]
    },
    {
      "cell_type": "code",
      "source": [
        "box.count(4)  # 4가 몇개 들어있는지 리턴"
      ],
      "metadata": {
        "colab": {
          "base_uri": "https://localhost:8080/"
        },
        "id": "U3KDt0rMr6G7",
        "outputId": "5adafc12-ec8c-48b7-cef7-b0f862a23537"
      },
      "execution_count": 123,
      "outputs": [
        {
          "output_type": "execute_result",
          "data": {
            "text/plain": [
              "1"
            ]
          },
          "metadata": {},
          "execution_count": 123
        }
      ]
    },
    {
      "cell_type": "code",
      "source": [
        "a = [1, 2, 3]\n",
        "b = [4, 5, 6]\n",
        "\n",
        "#  a = a.extend(b)   # a 원소랑 b 원소랑 합쳐서 a에 넣어줌\n",
        "a = a + b            #  a += b  가능\n",
        "a"
      ],
      "metadata": {
        "colab": {
          "base_uri": "https://localhost:8080/"
        },
        "id": "3eUGb2U7sN-N",
        "outputId": "e2233899-c37b-464d-8925-96a39345e1a1"
      },
      "execution_count": 127,
      "outputs": [
        {
          "output_type": "execute_result",
          "data": {
            "text/plain": [
              "[1, 2, 3, 4, 5, 6]"
            ]
          },
          "metadata": {},
          "execution_count": 127
        }
      ]
    },
    {
      "cell_type": "code",
      "source": [
        "# 튜플 자료형 : 리스트랑 거의 똑같다. (데이터를 보관하는 기능)\n",
        "# 튜플은 한번 정하면 절대로 수정할 수 없음\n",
        "\n",
        "a = (1, 3, 5, 4, 2)\n",
        "\n",
        "a + a"
      ],
      "metadata": {
        "colab": {
          "base_uri": "https://localhost:8080/"
        },
        "id": "Rgk-Tyxoscgc",
        "outputId": "9b700917-f122-4e16-deb3-db5cb055467d"
      },
      "execution_count": 129,
      "outputs": [
        {
          "output_type": "execute_result",
          "data": {
            "text/plain": [
              "(1, 3, 5, 4, 2, 1, 3, 5, 4, 2)"
            ]
          },
          "metadata": {},
          "execution_count": 129
        }
      ]
    },
    {
      "cell_type": "code",
      "source": [
        "a, b = 3, 5\n",
        "a"
      ],
      "metadata": {
        "colab": {
          "base_uri": "https://localhost:8080/"
        },
        "id": "Bj29DNO0s3ER",
        "outputId": "8698de51-d5a1-4955-825c-9f93dd8e6d90"
      },
      "execution_count": 130,
      "outputs": [
        {
          "output_type": "execute_result",
          "data": {
            "text/plain": [
              "3"
            ]
          },
          "metadata": {},
          "execution_count": 130
        }
      ]
    },
    {
      "cell_type": "code",
      "source": [
        "a = 3, 5    # 하나의 변수에 여러 값을 저장하려고 하면, 자동으로 튜플로 만들어서 저장해준다.\n",
        "a"
      ],
      "metadata": {
        "colab": {
          "base_uri": "https://localhost:8080/"
        },
        "id": "5tZ3NHS1tY2a",
        "outputId": "f0dbad4c-c440-43bb-96e1-3a4df5af1346"
      },
      "execution_count": 131,
      "outputs": [
        {
          "output_type": "execute_result",
          "data": {
            "text/plain": [
              "(3, 5)"
            ]
          },
          "metadata": {},
          "execution_count": 131
        }
      ]
    },
    {
      "cell_type": "code",
      "source": [
        "a = [5]\n",
        "a"
      ],
      "metadata": {
        "colab": {
          "base_uri": "https://localhost:8080/"
        },
        "id": "-M05uNxrteqP",
        "outputId": "2bc7704c-4501-40eb-f773-cc64fc91dd1a"
      },
      "execution_count": 132,
      "outputs": [
        {
          "output_type": "execute_result",
          "data": {
            "text/plain": [
              "[5]"
            ]
          },
          "metadata": {},
          "execution_count": 132
        }
      ]
    },
    {
      "cell_type": "code",
      "source": [
        "a = (3)   # 원소 1개짜리 튜플은 튜플로 인정하지 않고, 그냥 숫자 하나로 취급\n",
        "a"
      ],
      "metadata": {
        "colab": {
          "base_uri": "https://localhost:8080/"
        },
        "id": "0Dmdq_s8t38I",
        "outputId": "60a39481-fd92-4dc4-c9b2-6aa967114ce9"
      },
      "execution_count": 133,
      "outputs": [
        {
          "output_type": "execute_result",
          "data": {
            "text/plain": [
              "3"
            ]
          },
          "metadata": {},
          "execution_count": 133
        }
      ]
    },
    {
      "cell_type": "code",
      "source": [
        "a = (3, )  # 이렇게 하면 원소 1개짜리 튜플 만들 수 있음\n",
        "a"
      ],
      "metadata": {
        "colab": {
          "base_uri": "https://localhost:8080/"
        },
        "id": "ACfSOi4rt5L4",
        "outputId": "935a2e43-a731-409c-833e-1617783c115b"
      },
      "execution_count": 135,
      "outputs": [
        {
          "output_type": "execute_result",
          "data": {
            "text/plain": [
              "(3,)"
            ]
          },
          "metadata": {},
          "execution_count": 135
        }
      ]
    },
    {
      "cell_type": "code",
      "source": [
        "a = (1, 3, 5, 4, 2)\n",
        "a = list(a)             # 튜플 -> 리스트\n",
        "a[1] = 10\n",
        "a = tuple(a)\n",
        "a"
      ],
      "metadata": {
        "colab": {
          "base_uri": "https://localhost:8080/"
        },
        "id": "dNwa1fi2uFrs",
        "outputId": "597954b8-0dc0-4461-f4bd-53cff1ee96da"
      },
      "execution_count": 137,
      "outputs": [
        {
          "output_type": "execute_result",
          "data": {
            "text/plain": [
              "(1, 10, 5, 4, 2)"
            ]
          },
          "metadata": {},
          "execution_count": 137
        }
      ]
    },
    {
      "cell_type": "code",
      "source": [
        "# 딕셔너리 : 사전\n",
        "# school : 학교\n",
        "\n",
        "dic = {\"이름\" : \"홍길동\", \"성별\" : \"남자\", \"나이\" : 30, \"이메일\" : \"test@test.com\", \"주소\" : \"경기도 광명시\", \"키\" : 180}\n",
        "dic"
      ],
      "metadata": {
        "colab": {
          "base_uri": "https://localhost:8080/"
        },
        "id": "n6b4euhZuPVY",
        "outputId": "cd69a419-3da0-4d7e-f33f-52d9882b8d2f"
      },
      "execution_count": 139,
      "outputs": [
        {
          "output_type": "execute_result",
          "data": {
            "text/plain": [
              "{'이름': '홍길동',\n",
              " '성별': '남자',\n",
              " '나이': 30,\n",
              " '이메일': 'test@test.com',\n",
              " '주소': '경기도 광명시',\n",
              " '키': 180}"
            ]
          },
          "metadata": {},
          "execution_count": 139
        }
      ]
    },
    {
      "cell_type": "code",
      "source": [
        "# 딕셔너리는 무조건 key 값 기준 판단 (index X)\n",
        "\n",
        "dic[\"이름\"]"
      ],
      "metadata": {
        "colab": {
          "base_uri": "https://localhost:8080/",
          "height": 35
        },
        "id": "Ih_TZxGDuzTY",
        "outputId": "e9797b18-f0f3-46fa-d1d0-d18b827c050b"
      },
      "execution_count": 140,
      "outputs": [
        {
          "output_type": "execute_result",
          "data": {
            "text/plain": [
              "'홍길동'"
            ],
            "application/vnd.google.colaboratory.intrinsic+json": {
              "type": "string"
            }
          },
          "metadata": {},
          "execution_count": 140
        }
      ]
    },
    {
      "cell_type": "code",
      "source": [
        "\"이름\" in dic"
      ],
      "metadata": {
        "colab": {
          "base_uri": "https://localhost:8080/"
        },
        "id": "pLREr876vBfY",
        "outputId": "57815f5f-6431-4f80-c109-9b09075919a8"
      },
      "execution_count": 141,
      "outputs": [
        {
          "output_type": "execute_result",
          "data": {
            "text/plain": [
              "True"
            ]
          },
          "metadata": {},
          "execution_count": 141
        }
      ]
    },
    {
      "cell_type": "code",
      "source": [
        "dic['이름'] = \"강동원\"\n",
        "dic"
      ],
      "metadata": {
        "colab": {
          "base_uri": "https://localhost:8080/"
        },
        "id": "dwXVxC8CvHe3",
        "outputId": "28c13083-9c77-4243-cc67-ba87546ff59c"
      },
      "execution_count": 144,
      "outputs": [
        {
          "output_type": "execute_result",
          "data": {
            "text/plain": [
              "{'이름': '강동원',\n",
              " '성별': '남자',\n",
              " '나이': 30,\n",
              " '이메일': 'test@test.com',\n",
              " '주소': '경기도 광명시',\n",
              " '키': 180}"
            ]
          },
          "metadata": {},
          "execution_count": 144
        }
      ]
    },
    {
      "cell_type": "code",
      "source": [
        "len(dic)"
      ],
      "metadata": {
        "colab": {
          "base_uri": "https://localhost:8080/"
        },
        "id": "gFwDF5UhvLNj",
        "outputId": "53a51c92-2c7b-4934-f2f5-dfdf2f202ef4"
      },
      "execution_count": 145,
      "outputs": [
        {
          "output_type": "execute_result",
          "data": {
            "text/plain": [
              "6"
            ]
          },
          "metadata": {},
          "execution_count": 145
        }
      ]
    },
    {
      "cell_type": "code",
      "source": [
        "# 빈도 분석\n",
        "dic['취미'] = '영화'\n",
        "dic"
      ],
      "metadata": {
        "colab": {
          "base_uri": "https://localhost:8080/"
        },
        "id": "IpWjwj37vS0X",
        "outputId": "7198bcd1-1447-40d1-c277-fee5b490a7e0"
      },
      "execution_count": 148,
      "outputs": [
        {
          "output_type": "execute_result",
          "data": {
            "text/plain": [
              "{'이름': '강동원',\n",
              " '성별': '남자',\n",
              " '나이': 30,\n",
              " '이메일': 'test@test.com',\n",
              " '주소': '경기도 광명시',\n",
              " '키': 180,\n",
              " '취미': '영화'}"
            ]
          },
          "metadata": {},
          "execution_count": 148
        }
      ]
    },
    {
      "cell_type": "code",
      "source": [
        "del dic[\"키\"]\n",
        "dic"
      ],
      "metadata": {
        "colab": {
          "base_uri": "https://localhost:8080/"
        },
        "id": "f5bIQjHlvWuX",
        "outputId": "5f40d6c3-b590-4e6a-aa36-90ce2a0e101c"
      },
      "execution_count": 149,
      "outputs": [
        {
          "output_type": "execute_result",
          "data": {
            "text/plain": [
              "{'이름': '강동원',\n",
              " '성별': '남자',\n",
              " '나이': 30,\n",
              " '이메일': 'test@test.com',\n",
              " '주소': '경기도 광명시',\n",
              " '취미': '영화'}"
            ]
          },
          "metadata": {},
          "execution_count": 149
        }
      ]
    },
    {
      "cell_type": "code",
      "source": [
        "list(dic.keys())"
      ],
      "metadata": {
        "colab": {
          "base_uri": "https://localhost:8080/"
        },
        "id": "BDnL1BG-vmqB",
        "outputId": "21c42e25-ada9-4823-e351-ee2ff1155611"
      },
      "execution_count": 151,
      "outputs": [
        {
          "output_type": "execute_result",
          "data": {
            "text/plain": [
              "['이름', '성별', '나이', '이메일', '주소', '취미']"
            ]
          },
          "metadata": {},
          "execution_count": 151
        }
      ]
    },
    {
      "cell_type": "code",
      "source": [
        "dic.values()"
      ],
      "metadata": {
        "colab": {
          "base_uri": "https://localhost:8080/"
        },
        "id": "5-_Cjynpvp8J",
        "outputId": "1cf4e360-48c9-4933-930a-30ac18a48ee2"
      },
      "execution_count": 152,
      "outputs": [
        {
          "output_type": "execute_result",
          "data": {
            "text/plain": [
              "dict_values(['강동원', '남자', 30, 'test@test.com', '경기도 광명시', '영화'])"
            ]
          },
          "metadata": {},
          "execution_count": 152
        }
      ]
    },
    {
      "cell_type": "code",
      "source": [
        "dic.items()   # key-value 튜플로 묶어서 리스트에 저장"
      ],
      "metadata": {
        "colab": {
          "base_uri": "https://localhost:8080/"
        },
        "id": "Iuc-6RoNvwRQ",
        "outputId": "ebb9ec2a-cab2-47dd-a58c-996f246bfe78"
      },
      "execution_count": 153,
      "outputs": [
        {
          "output_type": "execute_result",
          "data": {
            "text/plain": [
              "dict_items([('이름', '강동원'), ('성별', '남자'), ('나이', 30), ('이메일', 'test@test.com'), ('주소', '경기도 광명시'), ('취미', '영화')])"
            ]
          },
          "metadata": {},
          "execution_count": 153
        }
      ]
    },
    {
      "cell_type": "code",
      "source": [
        "# 집합\n",
        "# 1. 중복된 값을 허용하지 않는다.\n",
        "# 2. 순서가 없다.\n",
        "\n",
        "# set()안에는 값 1개만 전달해야 함 (여러 데이터이면 리스트로 묶어야 함)\n",
        "a = set([1, 2, 3, 1, 1, 1])\n",
        "a"
      ],
      "metadata": {
        "colab": {
          "base_uri": "https://localhost:8080/"
        },
        "id": "J_vm3C3mvx0H",
        "outputId": "5ed77fb1-e1e2-4e51-ec10-78e79389c9d2"
      },
      "execution_count": 154,
      "outputs": [
        {
          "output_type": "execute_result",
          "data": {
            "text/plain": [
              "{1, 2, 3}"
            ]
          },
          "metadata": {},
          "execution_count": 154
        }
      ]
    },
    {
      "cell_type": "code",
      "source": [
        "a = set(\"hello world\")\n",
        "a"
      ],
      "metadata": {
        "colab": {
          "base_uri": "https://localhost:8080/"
        },
        "id": "gtAQsLlhwZNk",
        "outputId": "c35ecb40-f129-49f9-e1eb-dc1161e1bc41"
      },
      "execution_count": 156,
      "outputs": [
        {
          "output_type": "execute_result",
          "data": {
            "text/plain": [
              "{' ', 'd', 'e', 'h', 'l', 'o', 'r', 'w'}"
            ]
          },
          "metadata": {},
          "execution_count": 156
        }
      ]
    },
    {
      "cell_type": "code",
      "source": [
        "a = set([1, 2, 3, 4, 5, 6])\n",
        "b = set([4, 5, 6, 7, 8, 9])\n",
        "\n",
        "a & b  # 교집합"
      ],
      "metadata": {
        "colab": {
          "base_uri": "https://localhost:8080/"
        },
        "id": "0m3AZYADwc9B",
        "outputId": "2d1cca21-1488-4282-ab93-1e44e3f71f3e"
      },
      "execution_count": 157,
      "outputs": [
        {
          "output_type": "execute_result",
          "data": {
            "text/plain": [
              "{4, 5, 6}"
            ]
          },
          "metadata": {},
          "execution_count": 157
        }
      ]
    },
    {
      "cell_type": "code",
      "source": [
        "a | b  # 합집합"
      ],
      "metadata": {
        "colab": {
          "base_uri": "https://localhost:8080/"
        },
        "id": "TVYl2JBzwvCZ",
        "outputId": "c08dd023-85db-4c04-dbaa-b50d50feb407"
      },
      "execution_count": 158,
      "outputs": [
        {
          "output_type": "execute_result",
          "data": {
            "text/plain": [
              "{1, 2, 3, 4, 5, 6, 7, 8, 9}"
            ]
          },
          "metadata": {},
          "execution_count": 158
        }
      ]
    },
    {
      "cell_type": "code",
      "source": [
        "a - b # 차집합"
      ],
      "metadata": {
        "colab": {
          "base_uri": "https://localhost:8080/"
        },
        "id": "BQwSDWmEwysT",
        "outputId": "31decffa-038b-475e-8110-e5b7623cc300"
      },
      "execution_count": 159,
      "outputs": [
        {
          "output_type": "execute_result",
          "data": {
            "text/plain": [
              "{1, 2, 3}"
            ]
          },
          "metadata": {},
          "execution_count": 159
        }
      ]
    },
    {
      "cell_type": "code",
      "source": [
        "a.add(7)   # 값 추가\n",
        "a"
      ],
      "metadata": {
        "colab": {
          "base_uri": "https://localhost:8080/"
        },
        "id": "Wj5XgfnQw4Nn",
        "outputId": "3a68bbf3-f85a-4531-9be3-f74b61e49232"
      },
      "execution_count": 160,
      "outputs": [
        {
          "output_type": "execute_result",
          "data": {
            "text/plain": [
              "{1, 2, 3, 4, 5, 6, 7}"
            ]
          },
          "metadata": {},
          "execution_count": 160
        }
      ]
    },
    {
      "cell_type": "code",
      "source": [
        "a.update([8, 9, 10])  # 여러개 값을 한번에 추가\n",
        "a"
      ],
      "metadata": {
        "colab": {
          "base_uri": "https://localhost:8080/"
        },
        "id": "XBbGq_o0w-Nx",
        "outputId": "a1427def-001c-4e04-8177-359548599dd1"
      },
      "execution_count": 162,
      "outputs": [
        {
          "output_type": "execute_result",
          "data": {
            "text/plain": [
              "{1, 2, 3, 4, 5, 6, 7, 8, 9, 10}"
            ]
          },
          "metadata": {},
          "execution_count": 162
        }
      ]
    },
    {
      "cell_type": "code",
      "source": [
        "a.remove(10)\n",
        "a"
      ],
      "metadata": {
        "colab": {
          "base_uri": "https://localhost:8080/"
        },
        "id": "7kkMzfG1xFHH",
        "outputId": "bc39c6a2-fbb2-4438-8622-d269270d5a9e"
      },
      "execution_count": 163,
      "outputs": [
        {
          "output_type": "execute_result",
          "data": {
            "text/plain": [
              "{1, 2, 3, 4, 5, 6, 7, 8, 9}"
            ]
          },
          "metadata": {},
          "execution_count": 163
        }
      ]
    },
    {
      "cell_type": "code",
      "source": [
        "# 불 자료형 : 참, 거짓\n",
        "\n",
        "a = True\n",
        "b = False"
      ],
      "metadata": {
        "id": "8PJKI94uxIl6"
      },
      "execution_count": 1,
      "outputs": []
    },
    {
      "cell_type": "code",
      "source": [
        "5 > 3"
      ],
      "metadata": {
        "colab": {
          "base_uri": "https://localhost:8080/"
        },
        "id": "2XKCP1PUBEHy",
        "outputId": "fd32f96b-2054-4bb4-9e1f-5c916643c67c"
      },
      "execution_count": 2,
      "outputs": [
        {
          "output_type": "execute_result",
          "data": {
            "text/plain": [
              "True"
            ]
          },
          "metadata": {},
          "execution_count": 2
        }
      ]
    },
    {
      "cell_type": "code",
      "source": [
        "# 5\n",
        "# 비어있으면 거짓\n",
        "\n",
        "bool(5)"
      ],
      "metadata": {
        "colab": {
          "base_uri": "https://localhost:8080/"
        },
        "id": "TEY8DL8xBFi1",
        "outputId": "f032dee8-3a98-4b27-c806-5f984d38deb3"
      },
      "execution_count": 3,
      "outputs": [
        {
          "output_type": "execute_result",
          "data": {
            "text/plain": [
              "True"
            ]
          },
          "metadata": {},
          "execution_count": 3
        }
      ]
    },
    {
      "cell_type": "code",
      "source": [
        "bool(0)"
      ],
      "metadata": {
        "colab": {
          "base_uri": "https://localhost:8080/"
        },
        "id": "Q1Df5qwKBTMD",
        "outputId": "f5284b73-8147-48e6-be21-e46d994dddfe"
      },
      "execution_count": 4,
      "outputs": [
        {
          "output_type": "execute_result",
          "data": {
            "text/plain": [
              "False"
            ]
          },
          "metadata": {},
          "execution_count": 4
        }
      ]
    },
    {
      "cell_type": "code",
      "source": [
        "bool(\"a\")"
      ],
      "metadata": {
        "colab": {
          "base_uri": "https://localhost:8080/"
        },
        "id": "Lglu7yEvBYCf",
        "outputId": "41712825-f833-4f29-8aa5-79e86946e18f"
      },
      "execution_count": 5,
      "outputs": [
        {
          "output_type": "execute_result",
          "data": {
            "text/plain": [
              "True"
            ]
          },
          "metadata": {},
          "execution_count": 5
        }
      ]
    },
    {
      "cell_type": "code",
      "source": [
        "bool(\"\")"
      ],
      "metadata": {
        "colab": {
          "base_uri": "https://localhost:8080/"
        },
        "id": "KffefjaJBazV",
        "outputId": "1e83ec9e-992f-4f3b-9275-1f62b866bb6b"
      },
      "execution_count": 6,
      "outputs": [
        {
          "output_type": "execute_result",
          "data": {
            "text/plain": [
              "False"
            ]
          },
          "metadata": {},
          "execution_count": 6
        }
      ]
    },
    {
      "cell_type": "code",
      "source": [
        "bool([])"
      ],
      "metadata": {
        "colab": {
          "base_uri": "https://localhost:8080/"
        },
        "id": "HDakVg0bBcEB",
        "outputId": "cc6dcf1d-dc7a-4313-d7c3-4b712cd30fb7"
      },
      "execution_count": 7,
      "outputs": [
        {
          "output_type": "execute_result",
          "data": {
            "text/plain": [
              "False"
            ]
          },
          "metadata": {},
          "execution_count": 7
        }
      ]
    },
    {
      "cell_type": "code",
      "source": [
        "5 >= 3"
      ],
      "metadata": {
        "colab": {
          "base_uri": "https://localhost:8080/"
        },
        "id": "-foPJgw5BdqX",
        "outputId": "e30cc5ab-1cd0-4525-c5b4-eb40618b9a44"
      },
      "execution_count": 10,
      "outputs": [
        {
          "output_type": "execute_result",
          "data": {
            "text/plain": [
              "True"
            ]
          },
          "metadata": {},
          "execution_count": 10
        }
      ]
    },
    {
      "cell_type": "code",
      "source": [
        "# 복사의 개념\n",
        "\n",
        "a = 5\n",
        "b = a      # 복사 X, b와 a가 같다는 의미\n",
        "\n",
        "b = 10\n",
        "a"
      ],
      "metadata": {
        "colab": {
          "base_uri": "https://localhost:8080/"
        },
        "id": "dMSsvpRcBoEm",
        "outputId": "e446ee9a-99bf-4714-ea5f-a1040156b128"
      },
      "execution_count": 11,
      "outputs": [
        {
          "output_type": "execute_result",
          "data": {
            "text/plain": [
              "5"
            ]
          },
          "metadata": {},
          "execution_count": 11
        }
      ]
    },
    {
      "cell_type": "code",
      "source": [
        "a = [1, 3, 5, 4, 2]\n",
        "b = a     # 복사 x ,  b와 a가 같다는 의미\n",
        "\n",
        "b = a[:]  # 복사 O\n",
        "\n",
        "b[1] = 10\n",
        "b"
      ],
      "metadata": {
        "colab": {
          "base_uri": "https://localhost:8080/"
        },
        "id": "lff9s1_sCAOF",
        "outputId": "ea783064-36c1-4908-c3d9-573769fb0b21"
      },
      "execution_count": 15,
      "outputs": [
        {
          "output_type": "execute_result",
          "data": {
            "text/plain": [
              "[1, 10, 5, 4, 2]"
            ]
          },
          "metadata": {},
          "execution_count": 15
        }
      ]
    },
    {
      "cell_type": "code",
      "source": [
        "a"
      ],
      "metadata": {
        "colab": {
          "base_uri": "https://localhost:8080/"
        },
        "id": "DPdVhWnHCK0E",
        "outputId": "fb2c7f0a-1288-40e4-9309-9d8cccbc2ce1"
      },
      "execution_count": 16,
      "outputs": [
        {
          "output_type": "execute_result",
          "data": {
            "text/plain": [
              "[1, 3, 5, 4, 2]"
            ]
          },
          "metadata": {},
          "execution_count": 16
        }
      ]
    },
    {
      "cell_type": "code",
      "source": [
        "a = [1, 2, 3]\n",
        "b = a\n",
        "\n",
        "print(id(a))   # id : a가 저장된 주소 값\n",
        "print(id(b))"
      ],
      "metadata": {
        "colab": {
          "base_uri": "https://localhost:8080/"
        },
        "id": "fmshZVs4CPUF",
        "outputId": "7104c17c-0eba-4144-9af6-31ebcd50c9f7"
      },
      "execution_count": 14,
      "outputs": [
        {
          "output_type": "stream",
          "name": "stdout",
          "text": [
            "140608918199424\n",
            "140608918199424\n"
          ]
        }
      ]
    },
    {
      "cell_type": "code",
      "source": [
        "a = [1, 2, 3]\n",
        "b = a[:]\n",
        "\n",
        "print(id(a))   # id : a가 저장된 주소 값\n",
        "print(id(b))"
      ],
      "metadata": {
        "colab": {
          "base_uri": "https://localhost:8080/"
        },
        "id": "75MrhTeNCrOX",
        "outputId": "b5d3a487-00c6-425c-8dbf-63c01e519bf7"
      },
      "execution_count": 17,
      "outputs": [
        {
          "output_type": "stream",
          "name": "stdout",
          "text": [
            "140608918130928\n",
            "140608918131968\n"
          ]
        }
      ]
    },
    {
      "cell_type": "code",
      "source": [
        "from copy import copy  # copy라는 라이브러리에서 copy라는 함수 가져오기\n",
        "\n",
        "a = [1, 2, 3]\n",
        "b = copy(a)\n",
        "\n",
        "b[1] = 10\n",
        "b"
      ],
      "metadata": {
        "colab": {
          "base_uri": "https://localhost:8080/"
        },
        "id": "A8yKnTyfC_8D",
        "outputId": "9231f23c-4abf-446c-d474-83f2aecb2cc7"
      },
      "execution_count": 18,
      "outputs": [
        {
          "output_type": "execute_result",
          "data": {
            "text/plain": [
              "[1, 10, 3]"
            ]
          },
          "metadata": {},
          "execution_count": 18
        }
      ]
    },
    {
      "cell_type": "code",
      "source": [
        "print(id(a))  \n",
        "print(id(b))"
      ],
      "metadata": {
        "colab": {
          "base_uri": "https://localhost:8080/"
        },
        "id": "j7f09cPfDOJk",
        "outputId": "075e3584-7cf9-4a4c-da96-0accf08ab546"
      },
      "execution_count": 19,
      "outputs": [
        {
          "output_type": "stream",
          "name": "stdout",
          "text": [
            "140608917689360\n",
            "140608917691920\n"
          ]
        }
      ]
    },
    {
      "cell_type": "code",
      "source": [
        "a, b = 3, 5\n",
        "(a, b) = 3, 5\n",
        "a = b = 'python'"
      ],
      "metadata": {
        "id": "xG2J0MxeDSll"
      },
      "execution_count": 20,
      "outputs": []
    },
    {
      "cell_type": "code",
      "source": [
        "a = 3\n",
        "b = 5\n",
        "\n",
        "temp = a\n",
        "a = b\n",
        "b = temp\n",
        "\n",
        "print(a, b)"
      ],
      "metadata": {
        "colab": {
          "base_uri": "https://localhost:8080/"
        },
        "id": "muDCgJIXDdeM",
        "outputId": "0e8b847b-8e7c-47dd-a5ef-7e56cff9920b"
      },
      "execution_count": 22,
      "outputs": [
        {
          "output_type": "stream",
          "name": "stdout",
          "text": [
            "5 3\n"
          ]
        }
      ]
    },
    {
      "cell_type": "code",
      "source": [
        "a = 3\n",
        "b = 5\n",
        "\n",
        "a, b = b, a\n",
        "\n",
        "print(a, b)"
      ],
      "metadata": {
        "colab": {
          "base_uri": "https://localhost:8080/"
        },
        "id": "udlZ-cUfDmGq",
        "outputId": "fde37378-58bf-4afa-92ba-deb3f8440391"
      },
      "execution_count": 23,
      "outputs": [
        {
          "output_type": "stream",
          "name": "stdout",
          "text": [
            "5 3\n"
          ]
        }
      ]
    },
    {
      "cell_type": "code",
      "source": [
        "a, b, *c = 1, 3, 5, 4, 2   #  * 붙여주면 나머지를 다 c에 넣으라는 의미\n",
        "\n",
        "print(a, b, c)"
      ],
      "metadata": {
        "colab": {
          "base_uri": "https://localhost:8080/"
        },
        "id": "Qiqk2keeD1NA",
        "outputId": "d55ca2ae-32ab-4995-ae1b-4338f4cbc60b"
      },
      "execution_count": 25,
      "outputs": [
        {
          "output_type": "stream",
          "name": "stdout",
          "text": [
            "1 3 [5, 4, 2]\n"
          ]
        }
      ]
    },
    {
      "cell_type": "code",
      "source": [
        "a, *b, c = 1, 3, 5, 4, 2\n",
        "\n",
        "print(a, b, c)"
      ],
      "metadata": {
        "colab": {
          "base_uri": "https://localhost:8080/"
        },
        "id": "R80URv3BEWbq",
        "outputId": "630f7d6a-5ccd-474f-8c6d-b265a9d61660"
      },
      "execution_count": 27,
      "outputs": [
        {
          "output_type": "stream",
          "name": "stdout",
          "text": [
            "1 [3, 5, 4] 2\n"
          ]
        }
      ]
    },
    {
      "cell_type": "code",
      "source": [
        "# Test 문제 1\n",
        "n = 5\n",
        "'수박수박수'\n",
        "\n",
        "n = 4\n",
        "'수박수박'"
      ],
      "metadata": {
        "id": "wVH910LbEp4W"
      },
      "execution_count": 28,
      "outputs": []
    },
    {
      "cell_type": "code",
      "source": [
        "# 내 풀이\n",
        "str = \"수박수박수\"\n",
        "\n",
        "n = 4\n",
        "str[:n]\n",
        "\n",
        "n = 5\n",
        "str[:n]"
      ],
      "metadata": {
        "colab": {
          "base_uri": "https://localhost:8080/",
          "height": 35
        },
        "id": "h2pwW1SNFBD2",
        "outputId": "aafb232b-475c-49a9-af0f-507598fcc3c4"
      },
      "execution_count": 35,
      "outputs": [
        {
          "output_type": "execute_result",
          "data": {
            "text/plain": [
              "'수박수박수'"
            ],
            "application/vnd.google.colaboratory.intrinsic+json": {
              "type": "string"
            }
          },
          "metadata": {},
          "execution_count": 35
        }
      ]
    },
    {
      "cell_type": "code",
      "source": [
        "# 풀이 1\n",
        "\n",
        "n = 5\n",
        "\"수박\" * (n//2) + \"수\" * (n % 2)"
      ],
      "metadata": {
        "colab": {
          "base_uri": "https://localhost:8080/",
          "height": 35
        },
        "id": "BZxtF5tSFhW8",
        "outputId": "3a144f04-6adf-4819-af9e-c1e747a56ab5"
      },
      "execution_count": 41,
      "outputs": [
        {
          "output_type": "execute_result",
          "data": {
            "text/plain": [
              "'수박수박수'"
            ],
            "application/vnd.google.colaboratory.intrinsic+json": {
              "type": "string"
            }
          },
          "metadata": {},
          "execution_count": 41
        }
      ]
    },
    {
      "cell_type": "code",
      "source": [
        "# 풀이 2\n",
        "\n",
        "n = 5\n",
        "t = '수박' * n\n",
        "t[:n]"
      ],
      "metadata": {
        "colab": {
          "base_uri": "https://localhost:8080/",
          "height": 35
        },
        "id": "9dfyM8OrGXjF",
        "outputId": "11f98a26-6373-4a63-d98d-fd26731922c5"
      },
      "execution_count": 43,
      "outputs": [
        {
          "output_type": "execute_result",
          "data": {
            "text/plain": [
              "'수박수박수'"
            ],
            "application/vnd.google.colaboratory.intrinsic+json": {
              "type": "string"
            }
          },
          "metadata": {},
          "execution_count": 43
        }
      ]
    },
    {
      "cell_type": "code",
      "source": [
        "# Test 문제 2\n",
        "a = (1, 2, 3)    # (4, 3, 2, 1)로 만들기"
      ],
      "metadata": {
        "id": "D9sLlkHMGrev"
      },
      "execution_count": 44,
      "outputs": []
    },
    {
      "cell_type": "code",
      "source": [
        "# 내 풀이\n",
        "a = (1, 2, 3)\n",
        "a = list(a)\n",
        "a.append(4)\n",
        "a.sort(reverse=True)   # a.reverse()\n",
        "a = tuple(a)\n",
        "a"
      ],
      "metadata": {
        "colab": {
          "base_uri": "https://localhost:8080/"
        },
        "id": "ljrvjaJJG1-4",
        "outputId": "08f1e832-5f83-4bcc-bd51-9bcf381e4471"
      },
      "execution_count": 49,
      "outputs": [
        {
          "output_type": "execute_result",
          "data": {
            "text/plain": [
              "(4, 3, 2, 1)"
            ]
          },
          "metadata": {},
          "execution_count": 49
        }
      ]
    },
    {
      "cell_type": "code",
      "source": [
        "# Test 문제 3 \n",
        "a = [1,1,1,1,1,2,2,2,3,3,3,4,4,5,5,5,5,5,5]    # [5, 4, 3, 2, 1]로 만들기"
      ],
      "metadata": {
        "id": "WvJPsQXfG6VT"
      },
      "execution_count": 50,
      "outputs": []
    },
    {
      "cell_type": "code",
      "source": [
        "a = [1,1,1,1,1,2,2,2,3,3,3,4,4,5,5,5,5,5,5] \n",
        "b = list(set(a))\n",
        "b.sort(reverse=True)\n",
        "b"
      ],
      "metadata": {
        "colab": {
          "base_uri": "https://localhost:8080/"
        },
        "id": "ddnILqJ2H0ja",
        "outputId": "7188cd95-e501-4cf9-dacc-3ddb397d4106"
      },
      "execution_count": 59,
      "outputs": [
        {
          "output_type": "execute_result",
          "data": {
            "text/plain": [
              "[5, 4, 3, 2, 1]"
            ]
          },
          "metadata": {},
          "execution_count": 59
        }
      ]
    },
    {
      "cell_type": "code",
      "source": [
        "# 제어문 (조건문, 반복문)"
      ],
      "metadata": {
        "id": "6-7_vX6fIFav"
      },
      "execution_count": 60,
      "outputs": []
    },
    {
      "cell_type": "code",
      "source": [
        "# 1. 조건문  if문 : 특정 상황에 따라서 다르게 프로그래밍\n",
        "\n",
        "money = True\n",
        "\n",
        "if money == True :\n",
        "    print('taxi')"
      ],
      "metadata": {
        "colab": {
          "base_uri": "https://localhost:8080/"
        },
        "id": "LboR4YWHIwrj",
        "outputId": "839e8a5a-2979-4e85-871f-06191d63f1ff"
      },
      "execution_count": 61,
      "outputs": [
        {
          "output_type": "stream",
          "name": "stdout",
          "text": [
            "taxi\n"
          ]
        }
      ]
    },
    {
      "cell_type": "code",
      "source": [
        "money = 2000\n",
        "card = True\n",
        "\n",
        "if money >= 3000 or card == True:    # or, and 사용 가능\n",
        "    print('taxi')\n",
        "else :\n",
        "    print('walk')"
      ],
      "metadata": {
        "colab": {
          "base_uri": "https://localhost:8080/"
        },
        "id": "fCXGPKavJCJh",
        "outputId": "b08678ec-3a47-4211-dba7-c98a62172ae9"
      },
      "execution_count": 65,
      "outputs": [
        {
          "output_type": "stream",
          "name": "stdout",
          "text": [
            "taxi\n"
          ]
        }
      ]
    },
    {
      "cell_type": "code",
      "source": [
        "pocket = ['papaer', 'cellphone']\n",
        "\n",
        "if 'money' in pocket :\n",
        "    print('taxi')\n",
        "else : \n",
        "    if card == True:\n",
        "        print(\"taxi\")\n",
        "    else : \n",
        "        print(\"walk\")"
      ],
      "metadata": {
        "colab": {
          "base_uri": "https://localhost:8080/"
        },
        "id": "750QM06cJRAE",
        "outputId": "1623f0b8-0a79-4b18-d1cf-512ec08727d4"
      },
      "execution_count": 68,
      "outputs": [
        {
          "output_type": "stream",
          "name": "stdout",
          "text": [
            "taxi\n"
          ]
        }
      ]
    },
    {
      "cell_type": "code",
      "source": [
        "pocket = ['papaer', 'cellphone']\n",
        "\n",
        "# elif 여러개 사용 가능\n",
        "\n",
        "if 'money' in pocket :\n",
        "    print('taxi')\n",
        "elif card == True :\n",
        "    print(\"taxi\")\n",
        "else : \n",
        "    print(\"walk\")"
      ],
      "metadata": {
        "colab": {
          "base_uri": "https://localhost:8080/"
        },
        "id": "gKNaMgMaKMQu",
        "outputId": "6bc1ee84-1c38-4e3b-bd3e-c412d1666fbc"
      },
      "execution_count": 69,
      "outputs": [
        {
          "output_type": "stream",
          "name": "stdout",
          "text": [
            "taxi\n"
          ]
        }
      ]
    },
    {
      "cell_type": "code",
      "source": [
        "n = input(\"값을 입력해주세요 : \") \n",
        "n"
      ],
      "metadata": {
        "colab": {
          "base_uri": "https://localhost:8080/",
          "height": 54
        },
        "id": "3caVQJPnKxuc",
        "outputId": "48bdeda5-b7e8-4296-d4bc-191403ae1d3f"
      },
      "execution_count": 71,
      "outputs": [
        {
          "name": "stdout",
          "output_type": "stream",
          "text": [
            "값을 입력해주세요 : apple\n"
          ]
        },
        {
          "output_type": "execute_result",
          "data": {
            "text/plain": [
              "'apple'"
            ],
            "application/vnd.google.colaboratory.intrinsic+json": {
              "type": "string"
            }
          },
          "metadata": {},
          "execution_count": 71
        }
      ]
    },
    {
      "cell_type": "code",
      "source": [
        "n = input(\"값을 입력해주세요 : \")   # input은 무조건 문자열로 받아온다.\n",
        "n"
      ],
      "metadata": {
        "colab": {
          "base_uri": "https://localhost:8080/",
          "height": 54
        },
        "id": "zx-KFgWdLH6M",
        "outputId": "61b192a1-ed3a-4172-9b9c-cde0d7175302"
      },
      "execution_count": 72,
      "outputs": [
        {
          "name": "stdout",
          "output_type": "stream",
          "text": [
            "값을 입력해주세요 : 5 + 2\n"
          ]
        },
        {
          "output_type": "execute_result",
          "data": {
            "text/plain": [
              "'5 + 2'"
            ],
            "application/vnd.google.colaboratory.intrinsic+json": {
              "type": "string"
            }
          },
          "metadata": {},
          "execution_count": 72
        }
      ]
    },
    {
      "cell_type": "code",
      "source": [
        "n = int(input(\"값을 입력해주세요 : \"))  \n",
        "n"
      ],
      "metadata": {
        "colab": {
          "base_uri": "https://localhost:8080/"
        },
        "id": "monqzqMGLTCr",
        "outputId": "cfe244cc-b6ea-4f7c-82bb-a65d81aaeeed"
      },
      "execution_count": 74,
      "outputs": [
        {
          "name": "stdout",
          "output_type": "stream",
          "text": [
            "값을 입력해주세요 : 5\n"
          ]
        },
        {
          "output_type": "execute_result",
          "data": {
            "text/plain": [
              "5"
            ]
          },
          "metadata": {},
          "execution_count": 74
        }
      ]
    },
    {
      "cell_type": "code",
      "source": [
        "# Test 문제\n",
        "# n이 80점 이상이면 A, 70점 이상이면 B, 60점 이상이면 C, 나머지는 F\n",
        "\n",
        "n = int(input(\"값을 입력해주세요 : \"))  \n",
        "\n",
        "if n >= 80 :\n",
        "    print('A')\n",
        "elif n >= 70 :\n",
        "    print('B')\n",
        "elif n >= 60 :\n",
        "    print('C')\n",
        "else :\n",
        "    print('F')"
      ],
      "metadata": {
        "colab": {
          "base_uri": "https://localhost:8080/"
        },
        "id": "TQyH76irLcBa",
        "outputId": "2d8af416-875f-42b8-8a6e-4ee6d193d047"
      },
      "execution_count": 77,
      "outputs": [
        {
          "output_type": "stream",
          "name": "stdout",
          "text": [
            "값을 입력해주세요 : 75\n",
            "B\n"
          ]
        }
      ]
    },
    {
      "cell_type": "code",
      "source": [
        "score = 70\n",
        "\n",
        "if score >= 60 :\n",
        "    message = \"합격\"\n",
        "else : \n",
        "    message = \"불합격\"\n",
        "\n",
        "message"
      ],
      "metadata": {
        "colab": {
          "base_uri": "https://localhost:8080/",
          "height": 35
        },
        "id": "Yg91ZqwcL3wa",
        "outputId": "7976f572-3f3d-4f59-867e-ef9d4e6708eb"
      },
      "execution_count": 78,
      "outputs": [
        {
          "output_type": "execute_result",
          "data": {
            "text/plain": [
              "'합격'"
            ],
            "application/vnd.google.colaboratory.intrinsic+json": {
              "type": "string"
            }
          },
          "metadata": {},
          "execution_count": 78
        }
      ]
    },
    {
      "cell_type": "code",
      "source": [
        "score = 100\n",
        "\n",
        "message = '합격' if score >= 60 else '불합격'\n",
        "message"
      ],
      "metadata": {
        "colab": {
          "base_uri": "https://localhost:8080/",
          "height": 35
        },
        "id": "yIjZebYsMpNw",
        "outputId": "f0eed15b-fbf2-497f-fad6-b553ee5241d6"
      },
      "execution_count": 79,
      "outputs": [
        {
          "output_type": "execute_result",
          "data": {
            "text/plain": [
              "'합격'"
            ],
            "application/vnd.google.colaboratory.intrinsic+json": {
              "type": "string"
            }
          },
          "metadata": {},
          "execution_count": 79
        }
      ]
    },
    {
      "cell_type": "code",
      "source": [
        "# 2. 반복문\n",
        "# 2-1. while 문 : 조건이 참인 동안 반복 (몇 번 반복해야 할 지 모를 때)\n",
        "# 2-2. for 문 : 내가 요청한 만큼 반복"
      ],
      "metadata": {
        "id": "idS20dQwNFIC"
      },
      "execution_count": 80,
      "outputs": []
    },
    {
      "cell_type": "code",
      "source": [
        "# 2-1. while 문\n",
        "\n",
        "hit = 0\n",
        "while hit < 10 :\n",
        "    hit += 1\n",
        "    print(\"나무를 {}번 찍었습니다.\".format(hit))\n",
        "\n",
        "    if hit == 10 :\n",
        "        print(\"나무가 쓰러졌습니다.\")"
      ],
      "metadata": {
        "colab": {
          "base_uri": "https://localhost:8080/"
        },
        "id": "H5Z-id4yRvlN",
        "outputId": "1a0be6a0-ce2f-42b4-9925-ba557ceac2f5"
      },
      "execution_count": 84,
      "outputs": [
        {
          "output_type": "stream",
          "name": "stdout",
          "text": [
            "나무를 1번 찍었습니다.\n",
            "나무를 2번 찍었습니다.\n",
            "나무를 3번 찍었습니다.\n",
            "나무를 4번 찍었습니다.\n",
            "나무를 5번 찍었습니다.\n",
            "나무를 6번 찍었습니다.\n",
            "나무를 7번 찍었습니다.\n",
            "나무를 8번 찍었습니다.\n",
            "나무를 9번 찍었습니다.\n",
            "나무를 10번 찍었습니다.\n",
            "나무가 쓰러졌습니다.\n"
          ]
        }
      ]
    },
    {
      "cell_type": "code",
      "source": [
        "coffee = 10\n",
        "\n",
        "while True :\n",
        "    coffee -= 1\n",
        "    print(f\"커피를 한 잔 팔고, {coffee}잔 남았습니다.\")\n",
        "    if coffee == 0 :\n",
        "        print('매진되었습니다.')\n",
        "        break   # 반복 중에 얘를 만나는 순간 강제로 나감"
      ],
      "metadata": {
        "colab": {
          "base_uri": "https://localhost:8080/"
        },
        "id": "PymmwutaR8VN",
        "outputId": "c2e1c78f-e45f-4219-d63b-0e53ae16c3a5"
      },
      "execution_count": 85,
      "outputs": [
        {
          "output_type": "stream",
          "name": "stdout",
          "text": [
            "커피를 한 잔 팔고, 9잔 남았습니다.\n",
            "커피를 한 잔 팔고, 8잔 남았습니다.\n",
            "커피를 한 잔 팔고, 7잔 남았습니다.\n",
            "커피를 한 잔 팔고, 6잔 남았습니다.\n",
            "커피를 한 잔 팔고, 5잔 남았습니다.\n",
            "커피를 한 잔 팔고, 4잔 남았습니다.\n",
            "커피를 한 잔 팔고, 3잔 남았습니다.\n",
            "커피를 한 잔 팔고, 2잔 남았습니다.\n",
            "커피를 한 잔 팔고, 1잔 남았습니다.\n",
            "커피를 한 잔 팔고, 0잔 남았습니다.\n",
            "매진되었습니다.\n"
          ]
        }
      ]
    },
    {
      "cell_type": "code",
      "source": [
        "a = 0\n",
        "while a < 10 : \n",
        "    a += 1\n",
        "    if a % 2 == 0 : \n",
        "        continue     # 반복 중에 얘를 만나는 순간 그 즉시 시작점으로 이동\n",
        "    print(a)"
      ],
      "metadata": {
        "colab": {
          "base_uri": "https://localhost:8080/"
        },
        "id": "K7kP_61PTMZf",
        "outputId": "68528edf-8132-46f0-a05b-2c480822adf7"
      },
      "execution_count": 86,
      "outputs": [
        {
          "output_type": "stream",
          "name": "stdout",
          "text": [
            "1\n",
            "3\n",
            "5\n",
            "7\n",
            "9\n"
          ]
        }
      ]
    },
    {
      "cell_type": "code",
      "source": [
        "# Test\n",
        "# while문을 이용하여 1 ~ 1000까지 3의 배수의 합 (정답 166833)\n",
        "# 변수 이름 sum 금지"
      ],
      "metadata": {
        "id": "P4oo9mTzTwo7"
      },
      "execution_count": 87,
      "outputs": []
    },
    {
      "cell_type": "code",
      "source": [
        "n = 1\n",
        "result = 0\n",
        "\n",
        "while n <= 1000 :\n",
        "    if n % 3 == 0 :\n",
        "        result += n\n",
        "    n += 1\n",
        "    \n",
        "result"
      ],
      "metadata": {
        "colab": {
          "base_uri": "https://localhost:8080/"
        },
        "id": "_7WjgyNNT3Dj",
        "outputId": "5d635666-f02a-488f-816b-e390622921e9"
      },
      "execution_count": 91,
      "outputs": [
        {
          "output_type": "execute_result",
          "data": {
            "text/plain": [
              "166833"
            ]
          },
          "metadata": {},
          "execution_count": 91
        }
      ]
    },
    {
      "cell_type": "code",
      "source": [
        "# 2-2 . for문 : 내가 요청한 만큼 순서대로 반복\n",
        "\n",
        "box = ['홍길동', '이순신', '아이유']\n",
        "\n",
        "# for 변수이름 in 반복하고싶은것(리스트, 문자열, 튜플, 딕셔너리) :\n",
        "\n",
        "# box 안에 있는 것을 순서대로 name이라는 변수에 넣어라\n",
        "for name in box :\n",
        "    print(name)"
      ],
      "metadata": {
        "colab": {
          "base_uri": "https://localhost:8080/"
        },
        "id": "9gr3CZLXUOc6",
        "outputId": "cdfa1caf-9445-4320-c8c3-23b616d4565a"
      },
      "execution_count": 92,
      "outputs": [
        {
          "output_type": "stream",
          "name": "stdout",
          "text": [
            "홍길동\n",
            "이순신\n",
            "아이유\n"
          ]
        }
      ]
    },
    {
      "cell_type": "code",
      "source": [
        "name"
      ],
      "metadata": {
        "colab": {
          "base_uri": "https://localhost:8080/",
          "height": 35
        },
        "id": "TtbwoJ1OWKko",
        "outputId": "6838bcf2-a96d-46a9-fdfe-eb7a945f6e1a"
      },
      "execution_count": 93,
      "outputs": [
        {
          "output_type": "execute_result",
          "data": {
            "text/plain": [
              "'아이유'"
            ],
            "application/vnd.google.colaboratory.intrinsic+json": {
              "type": "string"
            }
          },
          "metadata": {},
          "execution_count": 93
        }
      ]
    },
    {
      "cell_type": "code",
      "source": [
        "box = [[\"홍길동\", 30], [\"이순신\", 60], [\"아이유\", 21]]\n",
        "\n",
        "for i, j in box :\n",
        "    print(f\"이름 : {i}, 나이 : {j}\")"
      ],
      "metadata": {
        "colab": {
          "base_uri": "https://localhost:8080/"
        },
        "id": "EBh3BHFrWMmg",
        "outputId": "330fa8cd-7d3d-4595-9c4a-662f3feda693"
      },
      "execution_count": 97,
      "outputs": [
        {
          "output_type": "stream",
          "name": "stdout",
          "text": [
            "이름 : 홍길동, 나이 : 30\n",
            "이름 : 이순신, 나이 : 60\n",
            "이름 : 아이유, 나이 : 21\n"
          ]
        }
      ]
    },
    {
      "cell_type": "code",
      "source": [
        "# range : 숫자 1개 -> 0부터 그 번호 전까지\n",
        "# range : 숫자 2개 -> 시작 번호부터 끝 번호 전까지 \n",
        "# range : 숫자 3개 -> 시작 번호부터 끝 번호 전까지 증감값 \n",
        "for i in range(10) :\n",
        "    print(i)\n",
        "\n",
        "for j in range(2, 10) :\n",
        "    print(j)\n",
        "\n",
        "for r in range(5, 10, 2) :\n",
        "    print(r)"
      ],
      "metadata": {
        "colab": {
          "base_uri": "https://localhost:8080/"
        },
        "id": "mo8g36f4WkU5",
        "outputId": "4e8db59c-283b-40c4-aef2-652a5445b92f"
      },
      "execution_count": 105,
      "outputs": [
        {
          "output_type": "stream",
          "name": "stdout",
          "text": [
            "0\n",
            "1\n",
            "2\n",
            "3\n",
            "4\n",
            "5\n",
            "6\n",
            "7\n",
            "8\n",
            "9\n",
            "2\n",
            "3\n",
            "4\n",
            "5\n",
            "6\n",
            "7\n",
            "8\n",
            "9\n",
            "5\n",
            "7\n",
            "9\n"
          ]
        }
      ]
    },
    {
      "cell_type": "code",
      "source": [
        "a = 0\n",
        "for i in range(1, 101) : \n",
        "    a += i\n",
        "a"
      ],
      "metadata": {
        "colab": {
          "base_uri": "https://localhost:8080/"
        },
        "id": "ka1YlHCRW-Ge",
        "outputId": "50ec4894-76ed-443f-bf6e-1a31f73f5fb1"
      },
      "execution_count": 102,
      "outputs": [
        {
          "output_type": "execute_result",
          "data": {
            "text/plain": [
              "5050"
            ]
          },
          "metadata": {},
          "execution_count": 102
        }
      ]
    },
    {
      "cell_type": "code",
      "source": [
        "# 반복문 안 쓸 수 있으면 안 쓰는게 좋다! (공식화)\n",
        "\n",
        "n = 1000\n",
        "(n * (n+1)) / 2"
      ],
      "metadata": {
        "colab": {
          "base_uri": "https://localhost:8080/"
        },
        "id": "J9pdjsKuXtXf",
        "outputId": "28493686-9887-44f1-99e2-aa7fe0b5b291"
      },
      "execution_count": 107,
      "outputs": [
        {
          "output_type": "execute_result",
          "data": {
            "text/plain": [
              "500500.0"
            ]
          },
          "metadata": {},
          "execution_count": 107
        }
      ]
    },
    {
      "cell_type": "code",
      "source": [
        "for i in range(2, 10) :\n",
        "    for j in range (1, 10) :\n",
        "        print(\"{} X {} = {}\".format(i, j, i*j))\n",
        "    print()"
      ],
      "metadata": {
        "colab": {
          "base_uri": "https://localhost:8080/"
        },
        "id": "tbnnQrO7YDkm",
        "outputId": "1d0e6b6e-4f8d-48e9-d515-4e3d92302183"
      },
      "execution_count": 110,
      "outputs": [
        {
          "output_type": "stream",
          "name": "stdout",
          "text": [
            "2 X 1 = 2\n",
            "2 X 2 = 4\n",
            "2 X 3 = 6\n",
            "2 X 4 = 8\n",
            "2 X 5 = 10\n",
            "2 X 6 = 12\n",
            "2 X 7 = 14\n",
            "2 X 8 = 16\n",
            "2 X 9 = 18\n",
            "\n",
            "3 X 1 = 3\n",
            "3 X 2 = 6\n",
            "3 X 3 = 9\n",
            "3 X 4 = 12\n",
            "3 X 5 = 15\n",
            "3 X 6 = 18\n",
            "3 X 7 = 21\n",
            "3 X 8 = 24\n",
            "3 X 9 = 27\n",
            "\n",
            "4 X 1 = 4\n",
            "4 X 2 = 8\n",
            "4 X 3 = 12\n",
            "4 X 4 = 16\n",
            "4 X 5 = 20\n",
            "4 X 6 = 24\n",
            "4 X 7 = 28\n",
            "4 X 8 = 32\n",
            "4 X 9 = 36\n",
            "\n",
            "5 X 1 = 5\n",
            "5 X 2 = 10\n",
            "5 X 3 = 15\n",
            "5 X 4 = 20\n",
            "5 X 5 = 25\n",
            "5 X 6 = 30\n",
            "5 X 7 = 35\n",
            "5 X 8 = 40\n",
            "5 X 9 = 45\n",
            "\n",
            "6 X 1 = 6\n",
            "6 X 2 = 12\n",
            "6 X 3 = 18\n",
            "6 X 4 = 24\n",
            "6 X 5 = 30\n",
            "6 X 6 = 36\n",
            "6 X 7 = 42\n",
            "6 X 8 = 48\n",
            "6 X 9 = 54\n",
            "\n",
            "7 X 1 = 7\n",
            "7 X 2 = 14\n",
            "7 X 3 = 21\n",
            "7 X 4 = 28\n",
            "7 X 5 = 35\n",
            "7 X 6 = 42\n",
            "7 X 7 = 49\n",
            "7 X 8 = 56\n",
            "7 X 9 = 63\n",
            "\n",
            "8 X 1 = 8\n",
            "8 X 2 = 16\n",
            "8 X 3 = 24\n",
            "8 X 4 = 32\n",
            "8 X 5 = 40\n",
            "8 X 6 = 48\n",
            "8 X 7 = 56\n",
            "8 X 8 = 64\n",
            "8 X 9 = 72\n",
            "\n",
            "9 X 1 = 9\n",
            "9 X 2 = 18\n",
            "9 X 3 = 27\n",
            "9 X 4 = 36\n",
            "9 X 5 = 45\n",
            "9 X 6 = 54\n",
            "9 X 7 = 63\n",
            "9 X 8 = 72\n",
            "9 X 9 = 81\n",
            "\n"
          ]
        }
      ]
    },
    {
      "cell_type": "code",
      "source": [
        "# Test 1"
      ],
      "metadata": {
        "id": "ff0aq-_JYZOO"
      },
      "execution_count": 111,
      "outputs": []
    },
    {
      "cell_type": "code",
      "source": [
        "for i in range(5, 0, -1) :\n",
        "    print(i * '*')"
      ],
      "metadata": {
        "colab": {
          "base_uri": "https://localhost:8080/"
        },
        "id": "xnwN0-7_Y3A9",
        "outputId": "06abebcb-0091-4062-f358-4af8c0cfc8f7"
      },
      "execution_count": 112,
      "outputs": [
        {
          "output_type": "stream",
          "name": "stdout",
          "text": [
            "*****\n",
            "****\n",
            "***\n",
            "**\n",
            "*\n"
          ]
        }
      ]
    },
    {
      "cell_type": "code",
      "source": [
        "for i in range(0, 5) :\n",
        "    print((5-i) * '*')"
      ],
      "metadata": {
        "colab": {
          "base_uri": "https://localhost:8080/"
        },
        "id": "wrU01diMZ7AL",
        "outputId": "b77f5535-6741-4a30-8007-10d3a42374cc"
      },
      "execution_count": 113,
      "outputs": [
        {
          "output_type": "stream",
          "name": "stdout",
          "text": [
            "*****\n",
            "****\n",
            "***\n",
            "**\n",
            "*\n"
          ]
        }
      ]
    },
    {
      "cell_type": "code",
      "source": [
        "# Test 2\n",
        "box = []\n",
        "for i in range(1, 6) :\n",
        "    box.append(i)\n",
        "\n",
        "box"
      ],
      "metadata": {
        "colab": {
          "base_uri": "https://localhost:8080/"
        },
        "id": "HoytMCWKaGUf",
        "outputId": "7786a855-f92d-499f-e0b6-a2b4d48c590c"
      },
      "execution_count": 114,
      "outputs": [
        {
          "output_type": "execute_result",
          "data": {
            "text/plain": [
              "[1, 2, 3, 4, 5]"
            ]
          },
          "metadata": {},
          "execution_count": 114
        }
      ]
    },
    {
      "cell_type": "code",
      "source": [
        "# 리스트 내포 (비추)\n",
        "\n",
        "box = [i * 3 for i in range(1, 11)]\n",
        "box\n",
        "\n",
        "box = [5 for i in range(1, 11)]\n",
        "box\n",
        "\n",
        "box = [i for i in range(1, 11) if i % 2 == 0]\n",
        "box"
      ],
      "metadata": {
        "colab": {
          "base_uri": "https://localhost:8080/"
        },
        "id": "onkAH7SEaTHv",
        "outputId": "4c5d019c-eff0-492d-c70d-8b99b79133da"
      },
      "execution_count": 118,
      "outputs": [
        {
          "output_type": "execute_result",
          "data": {
            "text/plain": [
              "[2, 4, 6, 8, 10]"
            ]
          },
          "metadata": {},
          "execution_count": 118
        }
      ]
    },
    {
      "cell_type": "code",
      "source": [
        "box = [i * j for i in range(2, 10) for j in range(1, 10) if i % 2 == 0]\n",
        "box"
      ],
      "metadata": {
        "colab": {
          "base_uri": "https://localhost:8080/"
        },
        "id": "hUseH5ZaaqHH",
        "outputId": "6a3ef59b-0abb-4ae7-d69c-1c2f844ccce1"
      },
      "execution_count": 121,
      "outputs": [
        {
          "output_type": "execute_result",
          "data": {
            "text/plain": [
              "[2,\n",
              " 4,\n",
              " 6,\n",
              " 8,\n",
              " 10,\n",
              " 12,\n",
              " 14,\n",
              " 16,\n",
              " 18,\n",
              " 4,\n",
              " 8,\n",
              " 12,\n",
              " 16,\n",
              " 20,\n",
              " 24,\n",
              " 28,\n",
              " 32,\n",
              " 36,\n",
              " 6,\n",
              " 12,\n",
              " 18,\n",
              " 24,\n",
              " 30,\n",
              " 36,\n",
              " 42,\n",
              " 48,\n",
              " 54,\n",
              " 8,\n",
              " 16,\n",
              " 24,\n",
              " 32,\n",
              " 40,\n",
              " 48,\n",
              " 56,\n",
              " 64,\n",
              " 72]"
            ]
          },
          "metadata": {},
          "execution_count": 121
        }
      ]
    },
    {
      "cell_type": "code",
      "source": [
        "# 함수 : 미리 만들어놓고 필요할때마다 가져다 쓰기 위한 기능\n",
        "# len() 처럼 제공되는 함수도 있음"
      ],
      "metadata": {
        "id": "Seerq5kzbHJk"
      },
      "execution_count": 122,
      "outputs": []
    },
    {
      "cell_type": "code",
      "source": [
        "# 함수 만들기\n",
        "# def 함수명(재료(매개변수)):\n",
        "\n",
        "def add(num1, num2) :\n",
        "    return num1 + num2"
      ],
      "metadata": {
        "id": "V1qsnoEVb6UT"
      },
      "execution_count": 124,
      "outputs": []
    },
    {
      "cell_type": "code",
      "source": [
        "a = add(3, 5)\n",
        "a"
      ],
      "metadata": {
        "colab": {
          "base_uri": "https://localhost:8080/"
        },
        "id": "U7Gsqqi-b7lL",
        "outputId": "7c99f24b-583d-4db2-c956-b7a5f2813bef"
      },
      "execution_count": 126,
      "outputs": [
        {
          "output_type": "execute_result",
          "data": {
            "text/plain": [
              "8"
            ]
          },
          "metadata": {},
          "execution_count": 126
        }
      ]
    },
    {
      "cell_type": "code",
      "source": [
        "# Test : 직각 삼각형 밑변, 높이 주어졌을 때 빗변 길이 ?\n",
        "\n",
        "def getR(a, b) :\n",
        "    dsum = ((a * a) + (b * b)) \n",
        "\n",
        "    for i in range(1, a+b) : \n",
        "        if(dsum // i == i) :\n",
        "            result = i\n",
        "    return result\n",
        "\n",
        "r = getR(3, 4)\n",
        "r"
      ],
      "metadata": {
        "colab": {
          "base_uri": "https://localhost:8080/"
        },
        "id": "vJkKlpIwcJmr",
        "outputId": "14c7e580-1d30-46a1-c9fd-8a20949b1f15"
      },
      "execution_count": 131,
      "outputs": [
        {
          "output_type": "execute_result",
          "data": {
            "text/plain": [
              "5"
            ]
          },
          "metadata": {},
          "execution_count": 131
        }
      ]
    },
    {
      "cell_type": "code",
      "source": [
        "# 강사님 풀이\n",
        "\n",
        "def pytha(num1, num2) :\n",
        "    return (num1**2 + num2**2) ** (1/2)"
      ],
      "metadata": {
        "id": "moZ1CU9vc3Bb"
      },
      "execution_count": 132,
      "outputs": []
    },
    {
      "cell_type": "code",
      "source": [
        "pytha(3, 4)"
      ],
      "metadata": {
        "colab": {
          "base_uri": "https://localhost:8080/"
        },
        "id": "N_XnNhuAdvIL",
        "outputId": "9e736a06-521c-4de0-fbfe-bee789b0277b"
      },
      "execution_count": 133,
      "outputs": [
        {
          "output_type": "execute_result",
          "data": {
            "text/plain": [
              "5.0"
            ]
          },
          "metadata": {},
          "execution_count": 133
        }
      ]
    },
    {
      "cell_type": "code",
      "source": [
        "def say() :\n",
        "    return 'hello'\n",
        "\n",
        "a = say()\n",
        "a"
      ],
      "metadata": {
        "colab": {
          "base_uri": "https://localhost:8080/",
          "height": 35
        },
        "id": "h3pEfpMFdwhe",
        "outputId": "37979086-10ad-4cf4-f3a5-c033bd7bcbdd"
      },
      "execution_count": 134,
      "outputs": [
        {
          "output_type": "execute_result",
          "data": {
            "text/plain": [
              "'hello'"
            ],
            "application/vnd.google.colaboratory.intrinsic+json": {
              "type": "string"
            }
          },
          "metadata": {},
          "execution_count": 134
        }
      ]
    },
    {
      "cell_type": "code",
      "source": [
        "def add(num1, num2) :\n",
        "    print(num1 + num2)"
      ],
      "metadata": {
        "id": "R5hJM4q2d6Ji"
      },
      "execution_count": 135,
      "outputs": []
    },
    {
      "cell_type": "code",
      "source": [
        "a = add(3, 7)"
      ],
      "metadata": {
        "colab": {
          "base_uri": "https://localhost:8080/"
        },
        "id": "X80HOpD7eBMJ",
        "outputId": "442ab5f4-89bd-43dc-9773-50aff20fe087"
      },
      "execution_count": 136,
      "outputs": [
        {
          "output_type": "stream",
          "name": "stdout",
          "text": [
            "10\n"
          ]
        }
      ]
    },
    {
      "cell_type": "code",
      "source": [
        "print(a)"
      ],
      "metadata": {
        "colab": {
          "base_uri": "https://localhost:8080/"
        },
        "id": "NTd2QbUAeEwo",
        "outputId": "e1728ed5-0768-4b8f-b4b6-49b62706a4ed"
      },
      "execution_count": 138,
      "outputs": [
        {
          "output_type": "stream",
          "name": "stdout",
          "text": [
            "None\n"
          ]
        }
      ]
    },
    {
      "cell_type": "code",
      "source": [
        "def intro(name, age, sex = 5) :  # 기본값 5\n",
        "    print(\"내 이름은 {}이고, {}살입니다.\".format(name, age))\n",
        "    if(sex == 5) :\n",
        "        print(\"나는 남자입니다.\")\n",
        "    else :\n",
        "        print(\"나는 여자입니다.\")"
      ],
      "metadata": {
        "id": "s0OVpqToeFhf"
      },
      "execution_count": 140,
      "outputs": []
    },
    {
      "cell_type": "code",
      "source": [
        "intro(\"홍길동\", 30)"
      ],
      "metadata": {
        "colab": {
          "base_uri": "https://localhost:8080/"
        },
        "id": "F-qBwY3SedoR",
        "outputId": "5c01edda-fb3d-49b0-ab40-0a156da56a1f"
      },
      "execution_count": 141,
      "outputs": [
        {
          "output_type": "stream",
          "name": "stdout",
          "text": [
            "내 이름은 홍길동이고, 30살입니다.\n",
            "나는 남자입니다.\n"
          ]
        }
      ]
    },
    {
      "cell_type": "code",
      "source": [
        "intro(\"전지현\", 40, 1)"
      ],
      "metadata": {
        "colab": {
          "base_uri": "https://localhost:8080/"
        },
        "id": "4xUmSGhPexcw",
        "outputId": "01e003fe-2d8d-4b95-abdd-ed7fd83e3ae0"
      },
      "execution_count": 144,
      "outputs": [
        {
          "output_type": "stream",
          "name": "stdout",
          "text": [
            "내 이름은 전지현이고, 40살입니다.\n",
            "나는 여자입니다.\n"
          ]
        }
      ]
    },
    {
      "cell_type": "code",
      "source": [
        "print(\"hello\", end='\\n')\n",
        "print(\"hello\")"
      ],
      "metadata": {
        "colab": {
          "base_uri": "https://localhost:8080/"
        },
        "id": "K7mpeYvxe0aR",
        "outputId": "621fc876-8071-4e55-97e3-ae295232a67d"
      },
      "execution_count": 145,
      "outputs": [
        {
          "output_type": "stream",
          "name": "stdout",
          "text": [
            "hello\n",
            "hello\n"
          ]
        }
      ]
    },
    {
      "cell_type": "code",
      "source": [
        "print(\"hello\", end=' -> ')   # 숨겨진 print 함수의 end 기본값 \\n을 -> 으로 변경\n",
        "print(\"hello\")"
      ],
      "metadata": {
        "colab": {
          "base_uri": "https://localhost:8080/"
        },
        "id": "P14ibVtlfLJw",
        "outputId": "fc033e52-9026-4a3c-a044-904e3a822807"
      },
      "execution_count": 148,
      "outputs": [
        {
          "output_type": "stream",
          "name": "stdout",
          "text": [
            "hello -> hello\n"
          ]
        }
      ]
    },
    {
      "cell_type": "code",
      "source": [
        "print('python', 'is', 'too', 'fun')"
      ],
      "metadata": {
        "colab": {
          "base_uri": "https://localhost:8080/"
        },
        "id": "2VeAk3DafOKd",
        "outputId": "be45c234-1dc1-4274-b781-6ac707ae801e"
      },
      "execution_count": 149,
      "outputs": [
        {
          "output_type": "stream",
          "name": "stdout",
          "text": [
            "python is too fun\n"
          ]
        }
      ]
    },
    {
      "cell_type": "code",
      "source": [
        "print('python', 'is', 'too', 'fun', sep = ' -> ')  # 숨겨진 print 함수의 sep 기본값 ' '을 ' -> ' 으로 변경"
      ],
      "metadata": {
        "colab": {
          "base_uri": "https://localhost:8080/"
        },
        "id": "Ap95o3o5fZC3",
        "outputId": "0ce343b5-efe0-4d0c-817f-d549943278cb"
      },
      "execution_count": 151,
      "outputs": [
        {
          "output_type": "stream",
          "name": "stdout",
          "text": [
            "python -> is -> too -> fun\n"
          ]
        }
      ]
    },
    {
      "cell_type": "code",
      "source": [
        "def test(a, *b) :   # * 추가하면 여러개의 값을 튜플로 묶어서 받을 수 있음\n",
        "    print(a, b)"
      ],
      "metadata": {
        "id": "Ysvu34DEfi9f"
      },
      "execution_count": 155,
      "outputs": []
    },
    {
      "cell_type": "code",
      "source": [
        "test(1, 3, 5, 4, 2)"
      ],
      "metadata": {
        "colab": {
          "base_uri": "https://localhost:8080/"
        },
        "id": "17ZdqQnCjMOT",
        "outputId": "cf5de6e6-cb4d-422f-9a72-2fc1ce29a7cd"
      },
      "execution_count": 156,
      "outputs": [
        {
          "output_type": "stream",
          "name": "stdout",
          "text": [
            "1 (3, 5, 4, 2)\n"
          ]
        }
      ]
    },
    {
      "cell_type": "code",
      "source": [
        "def test(**a) :\n",
        "    print(a)"
      ],
      "metadata": {
        "id": "gSmUCD6jjOXS"
      },
      "execution_count": 157,
      "outputs": []
    },
    {
      "cell_type": "code",
      "source": [
        "# *  : 묶는 것(리스트, 튜플)\n",
        "# ** : 딕셔너리\n",
        "\n",
        "test(name = '홍길동', age = 30)"
      ],
      "metadata": {
        "colab": {
          "base_uri": "https://localhost:8080/"
        },
        "id": "-pEESvRPjgxr",
        "outputId": "59dc56f6-ef00-40b5-9469-e1e91ac3340d"
      },
      "execution_count": 158,
      "outputs": [
        {
          "output_type": "stream",
          "name": "stdout",
          "text": [
            "{'name': '홍길동', 'age': 30}\n"
          ]
        }
      ]
    },
    {
      "cell_type": "code",
      "source": [
        "# 함수 안에서 사용된 변수는 함수 안에서만 영향을 미친다\n",
        "\n",
        "def test() :\n",
        "    a = 5   # 지역변수\n",
        "    return a \n",
        "\n",
        "a = 0   # 전역변수\n",
        "a = test()\n",
        "a"
      ],
      "metadata": {
        "colab": {
          "base_uri": "https://localhost:8080/"
        },
        "id": "jkDO_cL3jtOw",
        "outputId": "ece65d69-e660-4911-b5b1-69cf0c425900"
      },
      "execution_count": 161,
      "outputs": [
        {
          "output_type": "execute_result",
          "data": {
            "text/plain": [
              "5"
            ]
          },
          "metadata": {},
          "execution_count": 161
        }
      ]
    },
    {
      "cell_type": "code",
      "source": [
        "# 함수 안에서 사용된 변수는 함수 안에서만 영향을 미친다\n",
        "\n",
        "def test() :\n",
        "    global a   # a가 전역변수라는 사실을 명시해주기\n",
        "    a = 5      # 전역변수\n",
        "\n",
        "a = 0   # 전역변수\n",
        "test()\n",
        "a"
      ],
      "metadata": {
        "colab": {
          "base_uri": "https://localhost:8080/"
        },
        "id": "8Clwvmluj7-E",
        "outputId": "b6b7c24e-3155-4df9-fc1e-5f248a07f5ce"
      },
      "execution_count": 163,
      "outputs": [
        {
          "output_type": "execute_result",
          "data": {
            "text/plain": [
              "5"
            ]
          },
          "metadata": {},
          "execution_count": 163
        }
      ]
    },
    {
      "cell_type": "markdown",
      "source": [
        ""
      ],
      "metadata": {
        "id": "wf9qDLnClVIe"
      }
    },
    {
      "cell_type": "code",
      "source": [
        "# 특정한 상황일 때, 함수를 끝내고 싶다면?\n",
        "def say(name) :\n",
        "    if name == '바보' :\n",
        "        return \n",
        "    print(\"나의 별명은 {}입니다.\".format(name))"
      ],
      "metadata": {
        "id": "n6LZxfBsk-li"
      },
      "execution_count": 166,
      "outputs": []
    },
    {
      "cell_type": "code",
      "source": [
        "say(\"짱구\")"
      ],
      "metadata": {
        "colab": {
          "base_uri": "https://localhost:8080/"
        },
        "id": "3RAPi31zlUOS",
        "outputId": "fd2eb6b0-bab3-4547-c128-275aaa0b79ce"
      },
      "execution_count": 169,
      "outputs": [
        {
          "output_type": "stream",
          "name": "stdout",
          "text": [
            "나의 별명은 짱구입니다.\n"
          ]
        }
      ]
    },
    {
      "cell_type": "code",
      "source": [
        "# def (define)\n",
        "# lamda : 아주 간단한 함수를 만들 때\n",
        "\n",
        "add = lambda num1, num2 : num1 + num2"
      ],
      "metadata": {
        "id": "eEG8101flXye"
      },
      "execution_count": 170,
      "outputs": []
    },
    {
      "cell_type": "code",
      "source": [
        "add(4, 20)"
      ],
      "metadata": {
        "colab": {
          "base_uri": "https://localhost:8080/"
        },
        "id": "D3GTuwlvlpyG",
        "outputId": "32b3964f-d662-48c5-abd8-3028e29a7da8"
      },
      "execution_count": 171,
      "outputs": [
        {
          "output_type": "execute_result",
          "data": {
            "text/plain": [
              "24"
            ]
          },
          "metadata": {},
          "execution_count": 171
        }
      ]
    },
    {
      "cell_type": "code",
      "source": [
        "# Test : factorial 구현하기\n",
        "def fac(n) :\n",
        "    result = 1\n",
        "    for i in range(1, n+1) :\n",
        "        result *= i\n",
        "    return result"
      ],
      "metadata": {
        "id": "FokVevfalt-V"
      },
      "execution_count": 180,
      "outputs": []
    },
    {
      "cell_type": "code",
      "source": [
        "fac(6)"
      ],
      "metadata": {
        "colab": {
          "base_uri": "https://localhost:8080/"
        },
        "id": "FNyHs92imCl5",
        "outputId": "9b097ea4-fe04-4131-e4ab-67ba20374839"
      },
      "execution_count": 184,
      "outputs": [
        {
          "output_type": "execute_result",
          "data": {
            "text/plain": [
              "720"
            ]
          },
          "metadata": {},
          "execution_count": 184
        }
      ]
    },
    {
      "cell_type": "code",
      "source": [
        "# 재귀함수 : 자기 자신을 호출하는 함수\n",
        "\n",
        "def fac(n) : \n",
        "    if n == 1:\n",
        "        return 1\n",
        "    else :\n",
        "        return n * fac(n-1)"
      ],
      "metadata": {
        "id": "RmLI42iZmEKV"
      },
      "execution_count": 186,
      "outputs": []
    },
    {
      "cell_type": "code",
      "source": [
        "fac(5)"
      ],
      "metadata": {
        "colab": {
          "base_uri": "https://localhost:8080/"
        },
        "id": "_sHIACkBnC1n",
        "outputId": "1d3fb0a6-cb01-4221-b23a-b84d20898a9a"
      },
      "execution_count": 187,
      "outputs": [
        {
          "output_type": "execute_result",
          "data": {
            "text/plain": [
              "120"
            ]
          },
          "metadata": {},
          "execution_count": 187
        }
      ]
    },
    {
      "cell_type": "code",
      "source": [
        "# 피보나치 수열\n",
        "# 0, 1, 1, 2, 3, 5, 8, 13, 21 ...\n",
        "# fibo(5) -> 3    fibo(6) -> 5\n",
        "\n",
        "count = 0\n",
        "\n",
        "def fibo(n) :\n",
        "    global count \n",
        "    count += 1\n",
        "\n",
        "    if n == 1 : \n",
        "        return 0\n",
        "    elif n == 2 :\n",
        "        return 1\n",
        "    else :\n",
        "        return fibo(n-1) + fibo(n-2)"
      ],
      "metadata": {
        "id": "4rco18UunQXP"
      },
      "execution_count": 226,
      "outputs": []
    },
    {
      "cell_type": "code",
      "source": [
        "fibo(35)"
      ],
      "metadata": {
        "colab": {
          "base_uri": "https://localhost:8080/"
        },
        "id": "ts22LV69np_I",
        "outputId": "e8eea45a-3801-44cd-8e82-4ab52478b301"
      },
      "execution_count": 227,
      "outputs": [
        {
          "output_type": "execute_result",
          "data": {
            "text/plain": [
              "5702887"
            ]
          },
          "metadata": {},
          "execution_count": 227
        }
      ]
    },
    {
      "cell_type": "code",
      "source": [
        "count"
      ],
      "metadata": {
        "colab": {
          "base_uri": "https://localhost:8080/"
        },
        "id": "0EfEO3pwqx5F",
        "outputId": "b8155897-b9e4-4b8b-b59b-2b29a9bb410a"
      },
      "execution_count": 228,
      "outputs": [
        {
          "output_type": "execute_result",
          "data": {
            "text/plain": [
              "18454929"
            ]
          },
          "metadata": {},
          "execution_count": 228
        }
      ]
    },
    {
      "cell_type": "code",
      "source": [
        "# 이전 계산 결과 기억하는 재귀함수\n",
        "count = 0\n",
        "dic = {1 : 0,\n",
        "       2 : 1}\n",
        "\n",
        "def fibo(n) :\n",
        "    global count \n",
        "    count += 1\n",
        "\n",
        "    if n in dic.keys() :\n",
        "        return dic[n]\n",
        "    else : \n",
        "        dic[n] = fibo(n-1) + fibo(n-2)   # dic에 이전 계산 결과 저장\n",
        "        return dic[n]"
      ],
      "metadata": {
        "id": "qIz4XUnirC0W"
      },
      "execution_count": 229,
      "outputs": []
    },
    {
      "cell_type": "code",
      "source": [
        "fibo(35)"
      ],
      "metadata": {
        "colab": {
          "base_uri": "https://localhost:8080/"
        },
        "id": "8q2bwCqArts8",
        "outputId": "da25c536-9df5-433e-e1d1-14a6096c3ae1"
      },
      "execution_count": 231,
      "outputs": [
        {
          "output_type": "execute_result",
          "data": {
            "text/plain": [
              "5702887"
            ]
          },
          "metadata": {},
          "execution_count": 231
        }
      ]
    },
    {
      "cell_type": "code",
      "source": [
        "count"
      ],
      "metadata": {
        "colab": {
          "base_uri": "https://localhost:8080/"
        },
        "id": "71RjrvZdrvaP",
        "outputId": "2ba8b9f1-5f0f-446f-883a-c95ca497ce94"
      },
      "execution_count": 232,
      "outputs": [
        {
          "output_type": "execute_result",
          "data": {
            "text/plain": [
              "67"
            ]
          },
          "metadata": {},
          "execution_count": 232
        }
      ]
    },
    {
      "cell_type": "code",
      "source": [
        "dic"
      ],
      "metadata": {
        "colab": {
          "base_uri": "https://localhost:8080/"
        },
        "id": "s0SKYtldrznQ",
        "outputId": "4412622e-bea5-480d-dd26-ae7db045baac"
      },
      "execution_count": 233,
      "outputs": [
        {
          "output_type": "execute_result",
          "data": {
            "text/plain": [
              "{1: 0,\n",
              " 2: 1,\n",
              " 3: 1,\n",
              " 4: 2,\n",
              " 5: 3,\n",
              " 6: 5,\n",
              " 7: 8,\n",
              " 8: 13,\n",
              " 9: 21,\n",
              " 10: 34,\n",
              " 11: 55,\n",
              " 12: 89,\n",
              " 13: 144,\n",
              " 14: 233,\n",
              " 15: 377,\n",
              " 16: 610,\n",
              " 17: 987,\n",
              " 18: 1597,\n",
              " 19: 2584,\n",
              " 20: 4181,\n",
              " 21: 6765,\n",
              " 22: 10946,\n",
              " 23: 17711,\n",
              " 24: 28657,\n",
              " 25: 46368,\n",
              " 26: 75025,\n",
              " 27: 121393,\n",
              " 28: 196418,\n",
              " 29: 317811,\n",
              " 30: 514229,\n",
              " 31: 832040,\n",
              " 32: 1346269,\n",
              " 33: 2178309,\n",
              " 34: 3524578,\n",
              " 35: 5702887}"
            ]
          },
          "metadata": {},
          "execution_count": 233
        }
      ]
    },
    {
      "cell_type": "code",
      "source": [
        "# 예외 처리 : 에러가 발생했을 때, 에러를 무시하는 기술\n",
        "# When ? ) 내 코드에 문제가 없을 때"
      ],
      "metadata": {
        "id": "LAnnjFsJr68k"
      },
      "execution_count": 234,
      "outputs": []
    },
    {
      "cell_type": "code",
      "source": [
        "# try 키워드 내에서 에러가 발생하면, 에러를 발생시키지 않고 except를 실행\n",
        "try :\n",
        "    print('hello')\n",
        "    5 / 0             # error 발생\n",
        "    print('bye')\n",
        "except:\n",
        "    pass  # 뭐라도 적어야 할 때"
      ],
      "metadata": {
        "colab": {
          "base_uri": "https://localhost:8080/"
        },
        "id": "5BjPDG3csqac",
        "outputId": "ad9f2bf1-eaa2-4fa9-d1da-3d1e293e5aef"
      },
      "execution_count": 238,
      "outputs": [
        {
          "output_type": "stream",
          "name": "stdout",
          "text": [
            "hello\n"
          ]
        }
      ]
    },
    {
      "cell_type": "code",
      "source": [
        "try :\n",
        "    print('hello')\n",
        "    5 / 0             # error 발생\n",
        "    print('bye')\n",
        "except:\n",
        "    print('bye')"
      ],
      "metadata": {
        "colab": {
          "base_uri": "https://localhost:8080/"
        },
        "id": "CG70jUGXsvRE",
        "outputId": "936ffcb0-3527-4f38-c31b-9218ec8b32b9"
      },
      "execution_count": 239,
      "outputs": [
        {
          "output_type": "stream",
          "name": "stdout",
          "text": [
            "hello\n",
            "bye\n"
          ]
        }
      ]
    },
    {
      "cell_type": "code",
      "source": [
        "# 일부러 에러를 발생시키는 방법\n",
        "\n",
        "raise ZeroDivisionError"
      ],
      "metadata": {
        "colab": {
          "base_uri": "https://localhost:8080/",
          "height": 211
        },
        "id": "zW8a71hstZOK",
        "outputId": "ddd3f51e-00a5-4f4d-9a09-5208276fd04b"
      },
      "execution_count": 242,
      "outputs": [
        {
          "output_type": "error",
          "ename": "ZeroDivisionError",
          "evalue": "ignored",
          "traceback": [
            "\u001b[0;31m---------------------------------------------------------------------------\u001b[0m",
            "\u001b[0;31mZeroDivisionError\u001b[0m                         Traceback (most recent call last)",
            "\u001b[0;32m<ipython-input-242-2d5a20d3da9c>\u001b[0m in \u001b[0;36m<module>\u001b[0;34m\u001b[0m\n\u001b[1;32m      1\u001b[0m \u001b[0;31m# 일부러 에러를 발생시키는 방법\u001b[0m\u001b[0;34m\u001b[0m\u001b[0;34m\u001b[0m\u001b[0;34m\u001b[0m\u001b[0m\n\u001b[1;32m      2\u001b[0m \u001b[0;34m\u001b[0m\u001b[0m\n\u001b[0;32m----> 3\u001b[0;31m \u001b[0;32mraise\u001b[0m \u001b[0mZeroDivisionError\u001b[0m\u001b[0;34m\u001b[0m\u001b[0;34m\u001b[0m\u001b[0m\n\u001b[0m",
            "\u001b[0;31mZeroDivisionError\u001b[0m: "
          ]
        }
      ]
    },
    {
      "cell_type": "code",
      "source": [
        "# 파일 만들기\n",
        "\n",
        "f = open(\"test.txt\", 'wt')  # 뒤에 파일 생성의 이유 적어줘야 함 ( wt : write text / 항상 빈 파일에 처음부터 씀 ) \n",
        "\n",
        "for i in range(1, 11) :\n",
        "    f.write(\"{}번째 줄입니다.\\n\".format(i))\n",
        "\n",
        "f.close()   # 저장하고 끄는 역할 (필수)"
      ],
      "metadata": {
        "id": "FPeujAStttyO"
      },
      "execution_count": 248,
      "outputs": []
    },
    {
      "cell_type": "code",
      "source": [
        "f = open(\"test.txt\", 'at')  # 뒤에 파일 생성의 이유 적어줘야 함 ( at : attach text / 원래 글에 이어서 씀 ) \n",
        "\n",
        "for i in range(1, 11) :\n",
        "    f.write(\"{}번째 줄입니다.\\n\".format(i))\n",
        "\n",
        "f.close()   # 저장하고 끄는 역할 (필수)"
      ],
      "metadata": {
        "id": "SSC1ABIJuX5C"
      },
      "execution_count": 249,
      "outputs": []
    },
    {
      "cell_type": "code",
      "source": [
        "f = open(\"test.txt\", 'rt')   # read text\n",
        "\n",
        "my_text = f.read()\n",
        "f.close()\n",
        "\n",
        "print(my_text)"
      ],
      "metadata": {
        "colab": {
          "base_uri": "https://localhost:8080/"
        },
        "id": "oA1jtkcBvEcf",
        "outputId": "880d8bff-6982-4ee6-9624-d1452771d1aa"
      },
      "execution_count": 252,
      "outputs": [
        {
          "output_type": "stream",
          "name": "stdout",
          "text": [
            "1번째 줄입니다.\n",
            "2번째 줄입니다.\n",
            "3번째 줄입니다.\n",
            "4번째 줄입니다.\n",
            "5번째 줄입니다.\n",
            "6번째 줄입니다.\n",
            "7번째 줄입니다.\n",
            "8번째 줄입니다.\n",
            "9번째 줄입니다.\n",
            "10번째 줄입니다.\n",
            "1번째 줄입니다.\n",
            "2번째 줄입니다.\n",
            "3번째 줄입니다.\n",
            "4번째 줄입니다.\n",
            "5번째 줄입니다.\n",
            "6번째 줄입니다.\n",
            "7번째 줄입니다.\n",
            "8번째 줄입니다.\n",
            "9번째 줄입니다.\n",
            "10번째 줄입니다.\n",
            "\n"
          ]
        }
      ]
    },
    {
      "cell_type": "code",
      "source": [
        "# 내장함수\n",
        "\n",
        "abs(-5)  # 절댓값 함수"
      ],
      "metadata": {
        "colab": {
          "base_uri": "https://localhost:8080/"
        },
        "id": "gKLNWwRivPdh",
        "outputId": "7963339e-50cd-4360-ccaa-787304f4cd59"
      },
      "execution_count": 251,
      "outputs": [
        {
          "output_type": "execute_result",
          "data": {
            "text/plain": [
              "5"
            ]
          },
          "metadata": {},
          "execution_count": 251
        }
      ]
    },
    {
      "cell_type": "code",
      "source": [
        "len('python')"
      ],
      "metadata": {
        "colab": {
          "base_uri": "https://localhost:8080/"
        },
        "id": "qjhQPlQZvm_d",
        "outputId": "1df64478-c5f2-4351-a453-532b5ee6b37c"
      },
      "execution_count": 253,
      "outputs": [
        {
          "output_type": "execute_result",
          "data": {
            "text/plain": [
              "6"
            ]
          },
          "metadata": {},
          "execution_count": 253
        }
      ]
    },
    {
      "cell_type": "code",
      "source": [
        "len([1, 2, 3, 4, 5])"
      ],
      "metadata": {
        "colab": {
          "base_uri": "https://localhost:8080/"
        },
        "id": "mYsFiSspvv3w",
        "outputId": "ee9681a4-c736-41da-e552-3cc90d4e6a14"
      },
      "execution_count": 254,
      "outputs": [
        {
          "output_type": "execute_result",
          "data": {
            "text/plain": [
              "5"
            ]
          },
          "metadata": {},
          "execution_count": 254
        }
      ]
    },
    {
      "cell_type": "code",
      "source": [
        "all([1, 2, 3, 4, 5])    #  모두 참이어야 함, 하나라도 거짓이면 거짓"
      ],
      "metadata": {
        "colab": {
          "base_uri": "https://localhost:8080/"
        },
        "id": "Jt4WFs-9vxLQ",
        "outputId": "0056095a-b38f-49f4-a77d-0bf432149ab7"
      },
      "execution_count": 256,
      "outputs": [
        {
          "output_type": "execute_result",
          "data": {
            "text/plain": [
              "True"
            ]
          },
          "metadata": {},
          "execution_count": 256
        }
      ]
    },
    {
      "cell_type": "code",
      "source": [
        "all([1, 2, 3, 4, 5, 0])  "
      ],
      "metadata": {
        "colab": {
          "base_uri": "https://localhost:8080/"
        },
        "id": "5cnND2T0v3K4",
        "outputId": "df598e79-3619-4fd8-ecb2-179108a879af"
      },
      "execution_count": 257,
      "outputs": [
        {
          "output_type": "execute_result",
          "data": {
            "text/plain": [
              "False"
            ]
          },
          "metadata": {},
          "execution_count": 257
        }
      ]
    },
    {
      "cell_type": "code",
      "source": [
        "any([0, 0, 0, 1])  # 하나라도 참이면 참, 모두 거짓이어야 거짓"
      ],
      "metadata": {
        "colab": {
          "base_uri": "https://localhost:8080/"
        },
        "id": "UBvdhUmKv74Y",
        "outputId": "fa4f128d-343f-4826-9987-43efea9a5bde"
      },
      "execution_count": 258,
      "outputs": [
        {
          "output_type": "execute_result",
          "data": {
            "text/plain": [
              "True"
            ]
          },
          "metadata": {},
          "execution_count": 258
        }
      ]
    },
    {
      "cell_type": "code",
      "source": [
        "any([0, 0, 0, 0])"
      ],
      "metadata": {
        "colab": {
          "base_uri": "https://localhost:8080/"
        },
        "id": "nFkORLd8wAyl",
        "outputId": "6fac2be3-21d5-4062-86c7-109c3b448714"
      },
      "execution_count": 259,
      "outputs": [
        {
          "output_type": "execute_result",
          "data": {
            "text/plain": [
              "False"
            ]
          },
          "metadata": {},
          "execution_count": 259
        }
      ]
    },
    {
      "cell_type": "code",
      "source": [
        "box = ['apple', 'car', 'banana', 'car']\n",
        "\n",
        "# enumerate 함수 : 값의 위치 인덱스와 값을 얻을 수 있음\n",
        "\n",
        "list(enumerate(box))"
      ],
      "metadata": {
        "colab": {
          "base_uri": "https://localhost:8080/"
        },
        "id": "6sg-nU9xwCvY",
        "outputId": "fc64d67d-4439-4faa-e5be-8813a2604e40"
      },
      "execution_count": 264,
      "outputs": [
        {
          "output_type": "execute_result",
          "data": {
            "text/plain": [
              "[(0, 'apple'), (1, 'car'), (2, 'banana'), (3, 'car')]"
            ]
          },
          "metadata": {},
          "execution_count": 264
        }
      ]
    },
    {
      "cell_type": "code",
      "source": [
        "for i, j in enumerate(box) :\n",
        "    print(i, j)"
      ],
      "metadata": {
        "colab": {
          "base_uri": "https://localhost:8080/"
        },
        "id": "C3h6HKiDwQOJ",
        "outputId": "f52bd988-0260-4c8e-d16b-fc2b0e4d6457"
      },
      "execution_count": 266,
      "outputs": [
        {
          "output_type": "stream",
          "name": "stdout",
          "text": [
            "0 apple\n",
            "1 car\n",
            "2 banana\n",
            "3 car\n"
          ]
        }
      ]
    },
    {
      "cell_type": "code",
      "source": [
        "# 600만개 중 'car'라는 데이터의 모든 위치 알고 싶다.\n",
        "\n",
        "for i, j in enumerate(box) :\n",
        "    if j == 'car' :\n",
        "        print(i)"
      ],
      "metadata": {
        "colab": {
          "base_uri": "https://localhost:8080/"
        },
        "id": "m6sNBbdkwXp_",
        "outputId": "138b4cd8-46f8-472f-e4a5-8ac8fca462c9"
      },
      "execution_count": 265,
      "outputs": [
        {
          "output_type": "stream",
          "name": "stdout",
          "text": [
            "1\n",
            "3\n"
          ]
        }
      ]
    },
    {
      "cell_type": "code",
      "source": [
        ""
      ],
      "metadata": {
        "id": "IF83225Twn_A"
      },
      "execution_count": null,
      "outputs": []
    }
  ]
}